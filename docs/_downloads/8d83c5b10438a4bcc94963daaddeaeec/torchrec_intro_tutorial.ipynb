{
  "cells": [
    {
      "cell_type": "code",
      "execution_count": null,
      "metadata": {
        "collapsed": false
      },
      "outputs": [],
      "source": [
        "# Google Colab\uc5d0\uc11c \ub178\ud2b8\ubd81\uc744 \uc2e4\ud589\ud558\uae30 \uc704\ud55c \ud301\uc740 \ub2e4\uc74c\uc744 \ucc38\uc870\ud558\uc138\uc694:\n# https://tutorials.pytorch.kr/beginner/colab \n%matplotlib inline"
      ]
    },
    {
      "cell_type": "markdown",
      "metadata": {},
      "source": [
        "\n# Introduction to TorchRec\n\n**TorchRec** is a PyTorch library tailored for building scalable and efficient recommendation systems using embeddings.\nThis tutorial guides you through the installation process, introduces the concept of embeddings, and highlights their importance in\nrecommendation systems. It offers practical demonstrations on implementing embeddings with PyTorch\nand TorchRec, focusing on handling large embedding tables through distributed training and advanced optimizations.\n\n.. grid:: 2\n\n    .. grid-item-card:: :octicon:`mortar-board;1em;` What you will learn\n       :class-card: card-prerequisites\n\n       * Fundamentals of embeddings and their role in recommendation systems\n       * How to set up TorchRec to manage and implement embeddings in PyTorch environments\n       * Explore advanced techniques for distributing large embedding tables across multiple GPUs\n\n    .. grid-item-card:: :octicon:`list-unordered;1em;` Prerequisites\n       :class-card: card-prerequisites\n\n       * PyTorch v2.5 or later with CUDA 11.8 or later\n       * Python 3.9 or later\n       * [FBGEMM](https://github.com/pytorch/fbgemm)_\n"
      ]
    },
    {
      "cell_type": "markdown",
      "metadata": {},
      "source": [
        "## Install Dependencies\n\nBefore running this tutorial in Google Colab, make sure to install the\nfollowing dependencies:\n\n```sh\n!pip3 install --pre torch --index-url https://download.pytorch.org/whl/cu121 -U\n!pip3 install fbgemm_gpu --index-url https://download.pytorch.org/whl/cu121\n!pip3 install torchmetrics==1.0.3\n!pip3 install torchrec --index-url https://download.pytorch.org/whl/cu121\n```\n<div class=\"alert alert-info\"><h4>Note</h4><p>If you are running this in Google Colab, make sure to switch to a GPU runtime type.\n   For more information,\n   see [Enabling CUDA](https://tutorials.pytorch.kr/beginner/colab#enabling-cuda)_</p></div>\n\n\n"
      ]
    },
    {
      "cell_type": "markdown",
      "metadata": {},
      "source": [
        "### Embeddings\n\nWhen building recommendation systems, categorical features typically\nhave massive cardinality, posts, users, ads, and so on.\n\nIn order to represent these entities and model these relationships,\n**embeddings** are used. In machine learning, **embeddings are a vectors\nof real numbers in a high-dimensional space used to represent meaning in\ncomplex data like words, images, or users**.\n\n### Embeddings in RecSys\n\nNow you might wonder, how are these embeddings generated in the first\nplace? Well, embeddings are represented as individual rows in an\n**Embedding Table**, also referred to as embedding weights. The reason\nfor this is that embeddings or embedding table weights are trained just\nlike all of the other weights of the model via gradient descent!\n\nEmbedding tables are simply a large matrix for storing embeddings, with\ntwo dimensions (B, N), where:\n\n* B is the number of embeddings stored by the table\n* N is the number of dimensions per embedding (N-dimensional embedding).\n\nThe inputs to embedding tables represent embedding lookups to retrieve\nthe embedding for a specific index or row. In recommendation systems, such\nas those used in many large systems, unique IDs are not only used for\nspecific users, but also across entities like posts and ads to serve as\nlookup indices to respective embedding tables!\n\nEmbeddings are trained in RecSys through the following process:\n\n* **Input/lookup indices are fed into the model, as unique IDs**. IDs are\n  hashed to the total size of the embedding table to prevent issues when\n  the ID > number of rows\n\n* Embeddings are then retrieved and **pooled, such as taking the sum or\n  mean of the embeddings**. This is required as there can be a variable number of\n  embeddings per example while the model expects consistent shapes.\n\n* The **embeddings are used in conjunction with the rest of the model to\n  produce a prediction**, such as [Click-Through Rate\n  (CTR)](https://support.google.com/google-ads/answer/2615875?hl=en)_\n  for an ad.\n\n* The loss is calculated with the prediction and the label\n  for an example, and **all weights of the model are updated through\n  gradient descent and backpropagation, including the embedding weights**\n  that were associated with the example.\n\nThese embeddings are crucial for representing categorical features, such\nas users, posts, and ads, in order to capture relationships and make\ngood recommendations. The [Deep learning recommendation\nmodel](https://arxiv.org/abs/1906.00091)_ (DLRM) paper talks more\nabout the technical details of using embedding tables in RecSys.\n\nThis tutorial introduces the concept of embeddings, showcase\nTorchRec specific modules and data types, and depict how distributed training\nworks with TorchRec.\n\n\n"
      ]
    },
    {
      "cell_type": "code",
      "execution_count": null,
      "metadata": {
        "collapsed": false
      },
      "outputs": [],
      "source": [
        "import torch"
      ]
    },
    {
      "cell_type": "markdown",
      "metadata": {},
      "source": [
        "#### Embeddings in PyTorch\n\nIn PyTorch, we have the following types of embeddings:\n\n* :class:`torch.nn.Embedding`: An embedding table where forward pass returns the\n  embeddings themselves as is.\n\n* :class:`torch.nn.EmbeddingBag`: Embedding table where forward pass returns\n  embeddings that are then pooled, for example, sum or mean, otherwise known\n  as **Pooled Embeddings**.\n\nIn this section, we will go over a very brief introduction to performing\nembedding lookups by passing in indices into the table.\n\n\n"
      ]
    },
    {
      "cell_type": "code",
      "execution_count": null,
      "metadata": {
        "collapsed": false
      },
      "outputs": [],
      "source": [
        "num_embeddings, embedding_dim = 10, 4\n\n# Initialize our embedding table\nweights = torch.rand(num_embeddings, embedding_dim)\nprint(\"Weights:\", weights)\n\n# Pass in pre-generated weights just for example, typically weights are randomly initialized\nembedding_collection = torch.nn.Embedding(\n    num_embeddings, embedding_dim, _weight=weights\n)\nembedding_bag_collection = torch.nn.EmbeddingBag(\n    num_embeddings, embedding_dim, _weight=weights\n)\n\n# Print out the tables, we should see the same weights as above\nprint(\"Embedding Collection Table: \", embedding_collection.weight)\nprint(\"Embedding Bag Collection Table: \", embedding_bag_collection.weight)\n\n# Lookup rows (ids for embedding ids) from the embedding tables\n# 2D tensor with shape (batch_size, ids for each batch)\nids = torch.tensor([[1, 3]])\nprint(\"Input row IDS: \", ids)\n\nembeddings = embedding_collection(ids)\n\n# Print out the embedding lookups\n# You should see the specific embeddings be the same as the rows (ids) of the embedding tables above\nprint(\"Embedding Collection Results: \")\nprint(embeddings)\nprint(\"Shape: \", embeddings.shape)\n\n# ``nn.EmbeddingBag`` default pooling is mean, so should be mean of batch dimension of values above\npooled_embeddings = embedding_bag_collection(ids)\n\nprint(\"Embedding Bag Collection Results: \")\nprint(pooled_embeddings)\nprint(\"Shape: \", pooled_embeddings.shape)\n\n# ``nn.EmbeddingBag`` is the same as ``nn.Embedding`` but just with pooling (mean, sum, and so on)\n# We can see that the mean of the embeddings of embedding_collection is the same as the output of the embedding_bag_collection\nprint(\"Mean: \", torch.mean(embedding_collection(ids), dim=1))"
      ]
    },
    {
      "cell_type": "markdown",
      "metadata": {},
      "source": [
        "Congratulations! Now you have a basic understanding of how to use\nembedding tables --- one of the foundations of modern recommendation\nsystems! These tables represent entities and their relationships. For\nexample, the relationship between a given user and the pages and posts\nthey have liked.\n\n\n"
      ]
    },
    {
      "cell_type": "markdown",
      "metadata": {},
      "source": [
        "## TorchRec Features Overview\n\nIn the section above we've learned how to use embedding tables, one of the foundations of\nmodern recommendation systems! These tables represent entities and\nrelationships, such as users, pages, posts, etc. Given that these\nentities are always increasing, a **hash** function is typically applied\nto make sure the IDs are within the bounds of a certain embedding table.\nHowever, in order to represent a vast amount of entities and reduce hash\ncollisions, these tables can become quite massive (think about the number of ads\nfor example). In fact, these tables can become so massive that they\nwon't be able to fit on 1 GPU, even with 80G of memory.\n\nIn order to train models with massive embedding tables, sharding these\ntables across GPUs is required, which then introduces a whole new set of\nproblems and opportunities in parallelism and optimization. Luckily, we have\nthe TorchRec library <https://docs.pytorch.org/torchrec/overview.html>`__ that has encountered, consolidated, and addressed\nmany of these concerns. TorchRec serves as a **library that provides\nprimitives for large scale distributed embeddings**.\n\nNext, we will explore the major features of the TorchRec\nlibrary. We will start with ``torch.nn.Embedding`` and will extend that to\ncustom TorchRec modules, explore distributed training environment with\ngenerating a sharding plan for embeddings, look at inherent TorchRec\noptimizations, and extend the model to be ready for inference in C++.\nBelow is a quick outline of what this section consists of:\n\n* TorchRec Modules and Data Types\n* Distributed Training, Sharding, and Optimizations\n\nLet's begin with importing TorchRec:\n\n"
      ]
    },
    {
      "cell_type": "code",
      "execution_count": null,
      "metadata": {
        "collapsed": false
      },
      "outputs": [],
      "source": [
        "import torchrec"
      ]
    },
    {
      "cell_type": "markdown",
      "metadata": {},
      "source": [
        "#### TorchRec Modules and Data Types\n\nThis section goes over TorchRec Modules and data types including such\nentities as ``EmbeddingCollection`` and ``EmbeddingBagCollection``,\n``JaggedTensor``, ``KeyedJaggedTensor``, ``KeyedTensor`` and more.\n\n### From ``EmbeddingBag`` to ``EmbeddingBagCollection``\n\nWe have already explored :class:`torch.nn.Embedding` and :class:`torch.nn.EmbeddingBag`.\nTorchRec extends these modules by creating collections of embeddings, in\nother words modules that can have multiple embedding tables, with\n``EmbeddingCollection`` and ``EmbeddingBagCollection``\nWe will use ``EmbeddingBagCollection`` to represent a group of\nembedding bags.\n\nIn the example code below, we create an ``EmbeddingBagCollection`` (EBC)\nwith two embedding bags, 1 representing **products** and 1 representing **users**.\nEach table, ``product_table`` and ``user_table``, is represented by a 64 dimension\nembedding of size 4096.\n\n\n"
      ]
    },
    {
      "cell_type": "code",
      "execution_count": null,
      "metadata": {
        "collapsed": false
      },
      "outputs": [],
      "source": [
        "ebc = torchrec.EmbeddingBagCollection(\n    device=\"cpu\",\n    tables=[\n        torchrec.EmbeddingBagConfig(\n            name=\"product_table\",\n            embedding_dim=64,\n            num_embeddings=4096,\n            feature_names=[\"product\"],\n            pooling=torchrec.PoolingType.SUM,\n        ),\n        torchrec.EmbeddingBagConfig(\n            name=\"user_table\",\n            embedding_dim=64,\n            num_embeddings=4096,\n            feature_names=[\"user\"],\n            pooling=torchrec.PoolingType.SUM,\n        ),\n    ],\n)\nprint(ebc.embedding_bags)"
      ]
    },
    {
      "cell_type": "markdown",
      "metadata": {},
      "source": [
        "Let\u2019s inspect the forward method for ``EmbeddingBagCollection`` and the\nmodule\u2019s inputs and outputs:\n\n\n"
      ]
    },
    {
      "cell_type": "code",
      "execution_count": null,
      "metadata": {
        "collapsed": false
      },
      "outputs": [],
      "source": [
        "import inspect\n\n# Let's look at the ``EmbeddingBagCollection`` forward method\n# What is a ``KeyedJaggedTensor`` and ``KeyedTensor``?\nprint(inspect.getsource(ebc.forward))"
      ]
    },
    {
      "cell_type": "markdown",
      "metadata": {},
      "source": [
        "### TorchRec Input/Output Data Types\n\nTorchRec has distinct data types for input and output of its modules:\n``JaggedTensor``, ``KeyedJaggedTensor``, and ``KeyedTensor``. Now you\nmight ask, why create new data types to represent sparse features? To\nanswer that question, we must understand how sparse features are\nrepresented in code.\n\nSparse features are otherwise known as ``id_list_feature`` and\n``id_score_list_feature``, and are the **IDs** that will be used as\nindices to an embedding table to retrieve the embedding for that ID. To\ngive a very simple example, imagine a single sparse feature being Ads\nthat a user interacted with. The input itself would be a set of Ad IDs\nthat a user interacted with, and the embeddings retrieved would be a\nsemantic representation of those Ads. The tricky part of representing\nthese features in code is that in each input example, **the number of\nIDs is variable**. One day a user might have interacted with only one ad\nwhile the next day they interact with three.\n\nA simple representation is shown below, where we have a ``lengths``\ntensor denoting how many indices are in an example for a batch and a\n``values`` tensor containing the indices themselves.\n\n\n"
      ]
    },
    {
      "cell_type": "code",
      "execution_count": null,
      "metadata": {
        "collapsed": false
      },
      "outputs": [],
      "source": [
        "# Batch Size 2\n# 1 ID in example 1, 2 IDs in example 2\nid_list_feature_lengths = torch.tensor([1, 2])\n\n# Values (IDs) tensor: ID 5 is in example 1, ID 7, 1 is in example 2\nid_list_feature_values = torch.tensor([5, 7, 1])"
      ]
    },
    {
      "cell_type": "markdown",
      "metadata": {},
      "source": [
        "Next, let's look at the offsets as well as what is contained in each batch\n\n\n"
      ]
    },
    {
      "cell_type": "code",
      "execution_count": null,
      "metadata": {
        "collapsed": false
      },
      "outputs": [],
      "source": [
        "# Lengths can be converted to offsets for easy indexing of values\nid_list_feature_offsets = torch.cumsum(id_list_feature_lengths, dim=0)\n\nprint(\"Offsets: \", id_list_feature_offsets)\nprint(\"First Batch: \", id_list_feature_values[: id_list_feature_offsets[0]])\nprint(\n    \"Second Batch: \",\n    id_list_feature_values[id_list_feature_offsets[0] : id_list_feature_offsets[1]],\n)\n\nfrom torchrec import JaggedTensor\n\n# ``JaggedTensor`` is just a wrapper around lengths/offsets and values tensors!\njt = JaggedTensor(values=id_list_feature_values, lengths=id_list_feature_lengths)\n\n# Automatically compute offsets from lengths\nprint(\"Offsets: \", jt.offsets())\n\n# Convert to list of values\nprint(\"List of Values: \", jt.to_dense())\n\n# ``__str__`` representation\nprint(jt)\n\nfrom torchrec import KeyedJaggedTensor\n\n# ``JaggedTensor`` represents IDs for 1 feature, but we have multiple features in an ``EmbeddingBagCollection``\n# That's where ``KeyedJaggedTensor`` comes in! ``KeyedJaggedTensor`` is just multiple ``JaggedTensors`` for multiple id_list_feature_offsets\n# From before, we have our two features \"product\" and \"user\". Let's create ``JaggedTensors`` for both!\n\nproduct_jt = JaggedTensor(\n    values=torch.tensor([1, 2, 1, 5]), lengths=torch.tensor([3, 1])\n)\nuser_jt = JaggedTensor(values=torch.tensor([2, 3, 4, 1]), lengths=torch.tensor([2, 2]))\n\n# Q1: How many batches are there, and which values are in the first batch for ``product_jt`` and ``user_jt``?\nkjt = KeyedJaggedTensor.from_jt_dict({\"product\": product_jt, \"user\": user_jt})\n\n# Look at our feature keys for the ``KeyedJaggedTensor``\nprint(\"Keys: \", kjt.keys())\n\n# Look at the overall lengths for the ``KeyedJaggedTensor``\nprint(\"Lengths: \", kjt.lengths())\n\n# Look at all values for ``KeyedJaggedTensor``\nprint(\"Values: \", kjt.values())\n\n# Can convert ``KeyedJaggedTensor`` to dictionary representation\nprint(\"to_dict: \", kjt.to_dict())\n\n# ``KeyedJaggedTensor`` string representation\nprint(kjt)\n\n# Q2: What are the offsets for the ``KeyedJaggedTensor``?\n\n# Now we can run a forward pass on our ``EmbeddingBagCollection`` from before\nresult = ebc(kjt)\nresult\n\n# Result is a ``KeyedTensor``, which contains a list of the feature names and the embedding results\nprint(result.keys())\n\n# The results shape is [2, 128], as batch size of 2. Reread previous section if you need a refresher on how the batch size is determined\n# 128 for dimension of embedding. If you look at where we initialized the ``EmbeddingBagCollection``, we have two tables \"product\" and \"user\" of dimension 64 each\n# meaning embeddings for both features are of size 64. 64 + 64 = 128\nprint(result.values().shape)\n\n# Nice to_dict method to determine the embeddings that belong to each feature\nresult_dict = result.to_dict()\nfor key, embedding in result_dict.items():\n    print(key, embedding.shape)"
      ]
    },
    {
      "cell_type": "markdown",
      "metadata": {},
      "source": [
        "Congrats! You now understand TorchRec modules and data types.\nGive yourself a pat on the back for making it this far. Next, we will\nlearn about distributed training and sharding.\n\n\n"
      ]
    },
    {
      "cell_type": "markdown",
      "metadata": {},
      "source": [
        "### Distributed Training and Sharding\n\nNow that we have a grasp on TorchRec modules and data types, it's time\nto take it to the next level.\n\nRemember, the main purpose of TorchRec is to provide primitives for\ndistributed embeddings. So far, we've only worked with embedding tables\non a single device. This has been possible given how small the embedding tables\nhave been, but in a production setting this isn't generally the case.\nEmbedding tables often get massive, where one table can't fit on a single\nGPU, creating the requirement for multiple devices and a distributed\nenvironment.\n\nIn this section, we will explore setting up a distributed environment,\nexactly how actual production training is done, and explore sharding\nembedding tables, all with TorchRec.\n\n**This section will also only use 1 GPU, though it will be treated in a\ndistributed fashion. This is only a limitation for training, as training\nhas a process per GPU. Inference does not run into this requirement**\n\nIn the example code below, we set up our PyTorch distributed environment.\n\n<div class=\"alert alert-danger\"><h4>Warning</h4><p>If you are running this in Google Colab, you can only call this cell once,\n   calling it again will cause an error as you can only initialize the process\n   group once.</p></div>\n\n"
      ]
    },
    {
      "cell_type": "code",
      "execution_count": null,
      "metadata": {
        "collapsed": false
      },
      "outputs": [],
      "source": [
        "import os\n\nimport torch.distributed as dist\n\n# Set up environment variables for distributed training\n# RANK is which GPU we are on, default 0\nos.environ[\"RANK\"] = \"0\"\n# How many devices in our \"world\", colab notebook can only handle 1 process\nos.environ[\"WORLD_SIZE\"] = \"1\"\n# Localhost as we are training locally\nos.environ[\"MASTER_ADDR\"] = \"localhost\"\n# Port for distributed training\nos.environ[\"MASTER_PORT\"] = \"29500\"\n\n# nccl backend is for GPUs, gloo is for CPUs\ndist.init_process_group(backend=\"gloo\")\n\nprint(f\"Distributed environment initialized: {dist}\")"
      ]
    },
    {
      "cell_type": "markdown",
      "metadata": {},
      "source": [
        "### Distributed Embeddings\n\nWe have already worked with the main TorchRec module:\n``EmbeddingBagCollection``. We have examined how it works along with how\ndata is represented in TorchRec. However, we have not yet explored one\nof the main parts of TorchRec, which is **distributed embeddings**.\n\nGPUs are the most popular choice for ML workloads by far today, as they\nare able to do magnitudes more floating point operations/s\n([FLOPs](https://en.wikipedia.org/wiki/FLOPS)_) than CPU. However,\nGPUs come with the limitation of scarce fast memory (HBM which is\nanalogous to RAM for CPU), typically, ~10s of GBs.\n\nA RecSys model can contain embedding tables that far exceed the memory\nlimit for 1 GPU, hence the need for distribution of the embedding tables\nacross multiple GPUs, otherwise known as **model parallel**. On the\nother hand, **data parallel** is where the entire model is replicated on\neach GPU, which each GPU taking in a distinct batch of data for\ntraining, syncing gradients on the backwards pass.\n\nParts of the model that **require less compute but more memory\n(embeddings) are distributed with model parallel** while parts that\n**require more compute and less memory (dense layers, MLP, etc.) are\ndistributed with data parallel**.\n\n### Sharding\n\nIn order to distribute an embedding table, we split up the embedding\ntable into parts and place those parts onto different devices, also\nknown as \u201csharding\u201d.\n\nThere are many ways to shard embedding tables. The most common ways are:\n\n* Table-Wise: the table is placed entirely onto one device\n* Column-Wise: columns of embedding tables are sharded\n* Row-Wise: rows of embedding tables are sharded\n\n### Sharded Modules\n\nWhile all of this seems like a lot to deal with and implement, you're in\nluck. **TorchRec provides all the primitives for easy distributed\ntraining and inference**! In fact, TorchRec modules have two corresponding\nclasses for working with any TorchRec module in a distributed\nenvironment:\n\n* **The module sharder**: This class exposes a ``shard`` API\n  that handles sharding a TorchRec Module, producing a sharded module.\n  * For ``EmbeddingBagCollection``, the sharder is `EmbeddingBagCollectionSharder `\n* **Sharded module**: This class is a sharded variant of a TorchRec module.\n  It has the same input/output as a the regular TorchRec module, but much\n  more optimized and works in a distributed environment.\n  * For ``EmbeddingBagCollection``, the sharded variant is `ShardedEmbeddingBagCollection`\n\nEvery TorchRec module has an unsharded and sharded variant.\n\n* The unsharded version is meant to be prototyped and experimented with.\n* The sharded version is meant to be used in a distributed environment for\n  distributed training and inference.\n\nThe sharded versions of TorchRec modules, for example\n``EmbeddingBagCollection``, will handle everything that is needed for Model\nParallelism, such as communication between GPUs for distributing\nembeddings to the correct GPUs.\n\nRefresher of our ``EmbeddingBagCollection`` module\n\n"
      ]
    },
    {
      "cell_type": "code",
      "execution_count": null,
      "metadata": {
        "collapsed": false
      },
      "outputs": [],
      "source": [
        "ebc\n\nfrom torchrec.distributed.embeddingbag import EmbeddingBagCollectionSharder\nfrom torchrec.distributed.planner import EmbeddingShardingPlanner, Topology\nfrom torchrec.distributed.types import ShardingEnv\n\n# Corresponding sharder for ``EmbeddingBagCollection`` module\nsharder = EmbeddingBagCollectionSharder()\n\n# ``ProcessGroup`` from torch.distributed initialized 2 cells above\npg = dist.GroupMember.WORLD\nassert pg is not None, \"Process group is not initialized\"\n\nprint(f\"Process Group: {pg}\")"
      ]
    },
    {
      "cell_type": "markdown",
      "metadata": {},
      "source": [
        "### Planner\n\nBefore we can show how sharding works, we must know about the\n**planner**, which helps us determine the best sharding configuration.\n\nGiven a number of embedding tables and a number of ranks, there are many\ndifferent sharding configurations that are possible. For example, given\n2 embedding tables and 2 GPUs, you can:\n\n* Place 1 table on each GPU\n* Place both tables on a single GPU and no tables on the other\n* Place certain rows and columns on each GPU\n\nGiven all of these possibilities, we typically want a sharding\nconfiguration that is optimal for performance.\n\nThat is where the planner comes in. The planner is able to determine\ngiven the number of embedding tables and the number of GPUs, what is the optimal\nconfiguration. Turns out, this is incredibly difficult to do manually,\nwith tons of factors that engineers have to consider to ensure an\noptimal sharding plan. Luckily, TorchRec provides an auto planner when\nthe planner is used.\n\nThe TorchRec planner:\n\n* Assesses memory constraints of hardware\n* Estimates compute based on memory fetches as embedding lookups\n* Addresses data specific factors\n* Considers other hardware specifics like bandwidth to generate an optimal sharding plan\n\nIn order to take into consideration all these variables, The TorchRec\nplanner can take in [various amounts of data for embedding tables,\nconstraints, hardware information, and\ntopology](https://github.com/pytorch/torchrec/blob/main/torchrec/distributed/planner/planners.py#L147-L155)_\nto aid in generating the optimal sharding plan for a model, which is\nroutinely provided across stacks.\n\nTo learn more about sharding, see our [sharding\ntutorial](https://tutorials.pytorch.kr/advanced/sharding.html)_.\n\n\n"
      ]
    },
    {
      "cell_type": "code",
      "execution_count": null,
      "metadata": {
        "collapsed": false
      },
      "outputs": [],
      "source": [
        "# In our case, 1 GPU and compute on CUDA device\nplanner = EmbeddingShardingPlanner(\n    topology=Topology(\n        world_size=1,\n        compute_device=\"cuda\",\n    )\n)\n\n# Run planner to get plan for sharding\nplan = planner.collective_plan(ebc, [sharder], pg)\n\nprint(f\"Sharding Plan generated: {plan}\")"
      ]
    },
    {
      "cell_type": "markdown",
      "metadata": {},
      "source": [
        "### Planner Result\n\nAs you can see above, when running the planner there is quite a bit of output.\nWe can see a lot of stats being calculated along with where our\ntables end up being placed.\n\nThe result of running the planner is a static plan, which can be reused\nfor sharding! This allows sharding to be static for production models\ninstead of determining a new sharding plan everytime. Below, we use the\nsharding plan to finally generate our ``ShardedEmbeddingBagCollection``.\n\n\n"
      ]
    },
    {
      "cell_type": "code",
      "execution_count": null,
      "metadata": {
        "collapsed": false
      },
      "outputs": [],
      "source": [
        "# The static plan that was generated\nplan\n\nenv = ShardingEnv.from_process_group(pg)\n\n# Shard the ``EmbeddingBagCollection`` module using the ``EmbeddingBagCollectionSharder``\nsharded_ebc = sharder.shard(ebc, plan.plan[\"\"], env, torch.device(\"cuda\"))\n\nprint(f\"Sharded EBC Module: {sharded_ebc}\")"
      ]
    },
    {
      "cell_type": "markdown",
      "metadata": {},
      "source": [
        "## GPU Training with ``LazyAwaitable``\n\nRemember that TorchRec is a highly optimized library for distributed\nembeddings. A concept that TorchRec introduces to enable higher\nperformance for training on GPU is a\n`LazyAwaitable `.\nYou will see ``LazyAwaitable`` types as outputs of various sharded\nTorchRec modules. All a ``LazyAwaitable`` type does is delay calculating some\nresult as long as possible, and it does it by acting like an async type.\n\n\n"
      ]
    },
    {
      "cell_type": "code",
      "execution_count": null,
      "metadata": {
        "collapsed": false
      },
      "outputs": [],
      "source": [
        "from typing import List\n\nfrom torchrec.distributed.types import LazyAwaitable\n\n\n# Demonstrate a ``LazyAwaitable`` type:\nclass ExampleAwaitable(LazyAwaitable[torch.Tensor]):\n    def __init__(self, size: List[int]) -> None:\n        super().__init__()\n        self._size = size\n\n    def _wait_impl(self) -> torch.Tensor:\n        return torch.ones(self._size)\n\n\nawaitable = ExampleAwaitable([3, 2])\nawaitable.wait()\n\nkjt = kjt.to(\"cuda\")\noutput = sharded_ebc(kjt)\n# The output of our sharded ``EmbeddingBagCollection`` module is an `Awaitable`?\nprint(output)\n\nkt = output.wait()\n# Now we have our ``KeyedTensor`` after calling ``.wait()``\n# If you are confused as to why we have a ``KeyedTensor ``output,\n# give yourself a refresher on the unsharded ``EmbeddingBagCollection`` module\nprint(type(kt))\n\nprint(kt.keys())\n\nprint(kt.values().shape)\n\n# Same output format as unsharded ``EmbeddingBagCollection``\nresult_dict = kt.to_dict()\nfor key, embedding in result_dict.items():\n    print(key, embedding.shape)"
      ]
    },
    {
      "cell_type": "markdown",
      "metadata": {},
      "source": [
        "### Anatomy of Sharded TorchRec modules\n\nWe have now successfully sharded an ``EmbeddingBagCollection`` given a\nsharding plan that we generated! The sharded module has common APIs from\nTorchRec which abstract away distributed communication/compute amongst\nmultiple GPUs. In fact, these APIs are highly optimized for performance\nin training and inference. **Below are the three common APIs for\ndistributed training/inference** that are provided by TorchRec:\n\n* ``input_dist``: Handles distributing inputs from GPU to GPU.\n* ``lookups``: Does the actual embedding lookup in an optimized,\n  batched manner using FBGEMM TBE (more on this later).\n* ``output_dist``: Handles distributing outputs from GPU to GPU.\n\nThe distribution of inputs and outputs is done through [NCCL\nCollectives](https://docs.nvidia.com/deeplearning/nccl/user-guide/docs/overview.html)_,\nnamely\n[All-to-Alls](https://docs.nvidia.com/deeplearning/nccl/user-guide/docs/usage/p2p.html#all-to-all)_,\nwhich is where all GPUs send and receive data to and from one another.\nTorchRec interfaces with PyTorch distributed for collectives and\nprovides clean abstractions to the end users, removing the concern for\nthe lower level details.\n\nThe backwards pass does all of these collectives but in the reverse\norder for distribution of gradients. ``input_dist``, ``lookup``, and\n``output_dist`` all depend on the sharding scheme. Since we sharded in a\ntable-wise fashion, these APIs are modules that are constructed by\n`TwPooledEmbeddingSharding`.\n\n\n"
      ]
    },
    {
      "cell_type": "code",
      "execution_count": null,
      "metadata": {
        "collapsed": false
      },
      "outputs": [],
      "source": [
        "sharded_ebc\n\n# Distribute input KJTs to all other GPUs and receive KJTs\nsharded_ebc._input_dists\n\n# Distribute output embeddings to all other GPUs and receive embeddings\nsharded_ebc._output_dists"
      ]
    },
    {
      "cell_type": "markdown",
      "metadata": {},
      "source": [
        "### Optimizing Embedding Lookups\n\nIn performing lookups for a collection of embedding tables, a trivial\nsolution would be to iterate through all the ``nn.EmbeddingBags`` and do\na lookup per table. This is exactly what the standard, unsharded\n``EmbeddingBagCollection`` does. However, while this solution\nis simple, it is extremely slow.\n\n[FBGEMM](https://github.com/pytorch/FBGEMM/tree/main/fbgemm_gpu)_ is a\nlibrary that provides GPU operators (otherwise known as kernels) that\nare very optimized. One of these operators is known as **Table Batched\nEmbedding** (TBE), provides two major optimizations:\n\n-  Table batching, which allows you to look up multiple embeddings with\n   one kernel call.\n-  Optimizer Fusion, which allows the module to update itself given the\n   canonical pytorch optimizers and arguments.\n\nThe ``ShardedEmbeddingBagCollection`` uses the FBGEMM TBE as the lookup\ninstead of traditional ``nn.EmbeddingBags`` for optimized embedding\nlookups.\n\n\n"
      ]
    },
    {
      "cell_type": "code",
      "execution_count": null,
      "metadata": {
        "collapsed": false
      },
      "outputs": [],
      "source": [
        "sharded_ebc._lookups"
      ]
    },
    {
      "cell_type": "markdown",
      "metadata": {},
      "source": [
        "### ``DistributedModelParallel``\n\nWe have now explored sharding a single ``EmbeddingBagCollection``! We were\nable to take the ``EmbeddingBagCollectionSharder`` and use the unsharded\n``EmbeddingBagCollection`` to generate a\n``ShardedEmbeddingBagCollection`` module. This workflow is fine, but\ntypically when implementing model parallel,\n`DistributedModelParallel`\n(DMP) is used as the standard interface. When wrapping your model (in\nour case ``ebc``), with DMP, the following will occur:\n\n1. Decide how to shard the model. DMP will collect the available\n   sharders and come up with a plan of the optimal way to shard the\n   embedding table(s) (for example, ``EmbeddingBagCollection``)\n2. Actually shard the model. This includes allocating memory for each\n   embedding table on the appropriate device(s).\n\nDMP takes in everything that we've just experimented with, like a static\nsharding plan, a list of sharders, etc. However, it also has some nice\ndefaults to seamlessly shard a TorchRec model. In this toy example,\nsince we have two embedding tables and one GPU, TorchRec will place both\non the single GPU.\n\n\n"
      ]
    },
    {
      "cell_type": "code",
      "execution_count": null,
      "metadata": {
        "collapsed": false
      },
      "outputs": [],
      "source": [
        "ebc\n\nmodel = torchrec.distributed.DistributedModelParallel(ebc, device=torch.device(\"cuda\"))\n\nout = model(kjt)\nout.wait()\n\nmodel\n\n\nfrom fbgemm_gpu.split_embedding_configs import EmbOptimType"
      ]
    },
    {
      "cell_type": "markdown",
      "metadata": {},
      "source": [
        "### Sharding Best Practices\n\nCurrently, our configuration is only sharding on 1 GPU (or rank), which\nis trivial: just place all the tables on 1 GPUs memory. However, in real\nproduction use cases, embedding tables are **typically sharded on\nhundreds of GPUs**, with different sharding methods such as table-wise,\nrow-wise, and column-wise. It is incredibly important to determine a\nproper sharding configuration (to prevent out of memory issues) while\nkeeping it balanced not only in terms of memory but also compute for\noptimal performance.\n\n\n"
      ]
    },
    {
      "cell_type": "markdown",
      "metadata": {},
      "source": [
        "### Adding in the Optimizer\n\nRemember that TorchRec modules are hyperoptimized for large scale\ndistributed training. An important optimization is in regards to the\noptimizer.\n\nTorchRec modules provide a seamless API to fuse the\nbackwards pass and optimize step in training, providing a significant\noptimization in performance and decreasing the memory used, alongside\ngranularity in assigning distinct optimizers to distinct model\nparameters.\n\n## Optimizer Classes\n\nTorchRec uses ``CombinedOptimizer``, which contains a collection of\n``KeyedOptimizers``. A ``CombinedOptimizer`` effectively makes it easy\nto handle multiple optimizers for various sub groups in the model. A\n``KeyedOptimizer`` extends the ``torch.optim.Optimizer`` and is\ninitialized through a dictionary of parameters exposes the parameters.\nEach ``TBE`` module in a ``EmbeddingBagCollection`` will have it's own\n``KeyedOptimizer`` which combines into one ``CombinedOptimizer``.\n\n## Fused optimizer in TorchRec\n\nUsing ``DistributedModelParallel``, the **optimizer is fused, which\nmeans that the optimizer update is done in the backward**. This is an\noptimization in TorchRec and FBGEMM, where the optimizer embedding\ngradients are not materialized and applied directly to the parameters.\nThis brings significant memory savings as embedding gradients are\ntypically size of the parameters themselves.\n\nYou can, however, choose to make the optimizer ``dense`` which does not\napply this optimization and let's you inspect the embedding gradients or\napply computations to it as you wish. A dense optimizer in this case\nwould be your [canonical PyTorch model training loop with\noptimizer.](https://tutorials.pytorch.kr/beginner/basics/optimization_tutorial.html)_\n\nOnce the optimizer is created through ``DistributedModelParallel``, you\nstill need to manage an optimizer for the other parameters not\nassociated with TorchRec embedding modules. To find the other\nparameters,\nuse ``in_backward_optimizer_filter(model.named_parameters())``.\nApply an optimizer to those parameters as you would a normal Torch\noptimizer and combine this and the ``model.fused_optimizer`` into one\n``CombinedOptimizer`` that you can use in your training loop to\n``zero_grad`` and ``step`` through.\n\n## Adding an Optimizer to ``EmbeddingBagCollection``\n\nWe will do this in two ways, which are equivalent, but give you options\ndepending on your preferences:\n\n1. Passing optimizer kwargs through ``fused_params`` in sharder.\n2. Through ``apply_optimizer_in_backward``, which converts the optimizer\n   parameters to ``fused_params`` to pass to the ``TBE`` in the ``EmbeddingBagCollection`` or ``EmbeddingCollection``.\n\n\n"
      ]
    },
    {
      "cell_type": "code",
      "execution_count": null,
      "metadata": {
        "collapsed": false
      },
      "outputs": [],
      "source": [
        "# Option 1: Passing optimizer kwargs through fused parameters\nfrom torchrec.optim.optimizers import in_backward_optimizer_filter\n\n\n# We initialize the sharder with\nfused_params = {\n    \"optimizer\": EmbOptimType.EXACT_ROWWISE_ADAGRAD,\n    \"learning_rate\": 0.02,\n    \"eps\": 0.002,\n}\n\n# Initialize sharder with ``fused_params``\nsharder_with_fused_params = EmbeddingBagCollectionSharder(fused_params=fused_params)\n\n# We'll use same plan and unsharded EBC as before but this time with our new sharder\nsharded_ebc_fused_params = sharder_with_fused_params.shard(\n    ebc, plan.plan[\"\"], env, torch.device(\"cuda\")\n)\n\n# Looking at the optimizer of each, we can see that the learning rate changed, which indicates our optimizer has been applied correctly.\n# If seen, we can also look at the TBE logs of the cell to see that our new optimizer is indeed being applied\nprint(f\"Original Sharded EBC fused optimizer: {sharded_ebc.fused_optimizer}\")\nprint(\n    f\"Sharded EBC with fused parameters fused optimizer: {sharded_ebc_fused_params.fused_optimizer}\"\n)\n\nprint(f\"Type of optimizer: {type(sharded_ebc_fused_params.fused_optimizer)}\")\n\nimport copy\n\nfrom torch.distributed.optim import (\n    _apply_optimizer_in_backward as apply_optimizer_in_backward,\n)\n\n# Option 2: Applying optimizer through apply_optimizer_in_backward\n# Note: we need to call apply_optimizer_in_backward on unsharded model first and then shard it\n\n# We can achieve the same result as we did in the previous\nebc_apply_opt = copy.deepcopy(ebc)\noptimizer_kwargs = {\"lr\": 0.5}\n\nfor name, param in ebc_apply_opt.named_parameters():\n    print(f\"{name=}\")\n    apply_optimizer_in_backward(torch.optim.SGD, [param], optimizer_kwargs)\n\nsharded_ebc_apply_opt = sharder.shard(\n    ebc_apply_opt, plan.plan[\"\"], env, torch.device(\"cuda\")\n)\n\n# Now when we print the optimizer, we will see our new learning rate, you can verify momentum through the TBE logs as well if outputted\nprint(sharded_ebc_apply_opt.fused_optimizer)\nprint(type(sharded_ebc_apply_opt.fused_optimizer))\n\n# We can also check through the filter other parameters that aren't associated with the \"fused\" optimizer(s)\n# Practically, just non TorchRec module parameters. Since our module is just a TorchRec EBC\n# there are no other parameters that aren't associated with TorchRec\nprint(\"Non Fused Model Parameters:\")\nprint(\n    dict(\n        in_backward_optimizer_filter(sharded_ebc_fused_params.named_parameters())\n    ).keys()\n)\n\n# Here we do a dummy backwards call and see that parameter updates for fused\n# optimizers happen as a result of the backward pass\n\nebc_output = sharded_ebc_fused_params(kjt).wait().values()\nloss = torch.sum(torch.ones_like(ebc_output) - ebc_output)\nprint(f\"First Iteration Loss: {loss}\")\n\nloss.backward()\n\nebc_output = sharded_ebc_fused_params(kjt).wait().values()\nloss = torch.sum(torch.ones_like(ebc_output) - ebc_output)\n# We don't call an optimizer.step(), so for the loss to have changed here,\n# that means that the gradients were somehow updated, which is what the\n# fused optimizer automatically handles for us\nprint(f\"Second Iteration Loss: {loss}\")"
      ]
    },
    {
      "cell_type": "markdown",
      "metadata": {},
      "source": [
        "## Conclusion\nIn this tutorial, you have done training a distributed RecSys model\nIf you are interested in the inference the [TorchRec repo](https://github.com/pytorch/torchrec/tree/main/torchrec/inference)_ has a\nfull example of how to run the TorchRec in Inference mode.\n\n\n"
      ]
    },
    {
      "cell_type": "markdown",
      "metadata": {},
      "source": [
        "#### See Also\n\nFor more information, please see our\n[dlrm](https://github.com/facebookresearch/dlrm/tree/main/torchrec_dlrm/)_\nexample, which includes multinode training on the Criteo 1TB\ndataset using the methods described in [Deep Learning Recommendation Model\nfor Personalization and Recommendation Systems](https://arxiv.org/abs/1906.00091)_.\n\n\n"
      ]
    }
  ],
  "metadata": {
    "kernelspec": {
      "display_name": "Python 3",
      "language": "python",
      "name": "python3"
    },
    "language_info": {
      "codemirror_mode": {
        "name": "ipython",
        "version": 3
      },
      "file_extension": ".py",
      "mimetype": "text/x-python",
      "name": "python",
      "nbconvert_exporter": "python",
      "pygments_lexer": "ipython3",
      "version": "3.11.13"
    }
  },
  "nbformat": 4,
  "nbformat_minor": 0
}