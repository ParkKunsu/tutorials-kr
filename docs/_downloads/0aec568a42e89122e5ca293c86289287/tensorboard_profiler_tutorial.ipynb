{
  "cells": [
    {
      "cell_type": "code",
      "execution_count": null,
      "metadata": {
        "collapsed": false
      },
      "outputs": [],
      "source": [
        "# Google Colab\uc5d0\uc11c \ub178\ud2b8\ubd81\uc744 \uc2e4\ud589\ud558\uae30 \uc704\ud55c \ud301\uc740 \ub2e4\uc74c\uc744 \ucc38\uc870\ud558\uc138\uc694:\n# https://tutorials.pytorch.kr/beginner/colab \n%matplotlib inline"
      ]
    },
    {
      "cell_type": "markdown",
      "metadata": {},
      "source": [
        "\n# \ud150\uc11c\ubcf4\ub4dc\ub97c \uc774\uc6a9\ud55c \ud30c\uc774\ud1a0\uce58 \ud504\ub85c\ud30c\uc77c\ub7ec\n\n**\ubc88\uc5ed**: [\uc190\ub3d9\uc6b0](https://github.com/dnd-qodqks)_\n\n\uc774 \ud29c\ud1a0\ub9ac\uc5bc\uc5d0\uc11c\ub294 \ud30c\uc774\ud1a0\uce58(PyTorch) \ud504\ub85c\ud30c\uc77c\ub7ec(profiler)\uc640 \ud568\uaed8 \ud150\uc11c\ubcf4\ub4dc(TensorBoard) \ud50c\ub7ec\uadf8\uc778(plugin)\uc744 \uc0ac\uc6a9\ud558\uc5ec\n\ubaa8\ub378\uc758 \uc131\ub2a5 \ubcd1\ubaa9 \ud604\uc0c1\uc744 \ud0d0\uc9c0\ud558\ub294 \ubc29\ubc95\uc744 \ubcf4\uc5ec \uc90d\ub2c8\ub2e4.\n\n<div class=\"alert alert-danger\"><h4>Warning</h4><p>TensorBoard\uc640 PyTorch \ud504\ub85c\ud30c\uc77c\ub7ec\uc758 \ud1b5\ud569\uc740 \uc774\uc81c \ub354 \uc774\uc0c1 \uc0ac\uc6a9\ub418\uc9c0 \uc54a\uc2b5\ub2c8\ub2e4.\n   \ub300\uc2e0 Perfetto \ub610\ub294 Chrome \ud2b8\ub808\uc774\uc2a4\ub97c \uc0ac\uc6a9\ud558\uc5ec ``trace.json`` \ud30c\uc77c\uc744 \ubcfc \uc218 \uc788\uc2b5\ub2c8\ub2e4.\n   [\ud2b8\ub808\uc774\uc2a4 \uc0dd\uc131](https://tutorials.pytorch.kr/recipes/recipes/profiler_recipe.html#using-tracing-functionality)_ \ud6c4,\n   ``trace.json`` \ud30c\uc77c\uc744 [Perfetto UI](https://ui.perfetto.dev/)_ \ub610\ub294 ``chrome://tracing`` \uc5d0 \ub4dc\ub798\uadf8\ud558\uc5ec \ud504\ub85c\ud30c\uc77c\uc744 \uc2dc\uac01\ud654\ud560 \uc218 \uc788\uc2b5\ub2c8\ub2e4.</p></div>\n\n## \uc18c\uac1c\n\n\ud30c\uc774\ud1a0\uce58(PyTorch) 1.8\ubd80\ud130 GPU\uc5d0\uc11c CUDA \ucee4\ub110(kernel) \uc2e4\ud589 \ubfd0\ub9cc \uc544\ub2c8\ub77c\nCPU \uc791\uc5c5\uc744 \uae30\ub85d\ud560 \uc218 \uc788\ub294 \uc5c5\ub370\uc774\ud2b8\ub41c \ud504\ub85c\ud30c\uc77c\ub7ec API\uac00 \ud3ec\ud568\ub418\uc5b4 \uc788\uc2b5\ub2c8\ub2e4.\n\ud504\ub85c\ud30c\uc77c\ub7ec\ub294 \ud150\uc11c\ubcf4\ub4dc \ud50c\ub7ec\uadf8\uc778\uc5d0\uc11c \uc774\ub7f0 \uc815\ubcf4\ub97c \uc2dc\uac01\ud654\ud558\uace0\n\uc131\ub2a5 \ubcd1\ubaa9 \ud604\uc0c1\uc5d0 \ub300\ud55c \ubd84\uc11d\uc744 \uc81c\uacf5\ud560 \uc218 \uc788\uc2b5\ub2c8\ub2e4.\n\n\uc774 \ud29c\ud1a0\ub9ac\uc5bc\uc5d0\uc11c\ub294 \uac04\ub2e8\ud55c Resnet \ubaa8\ub378\uc744 \uc0ac\uc6a9\ud558\uc5ec\n\ud150\uc11c\ubcf4\ub4dc \ud50c\ub7ec\uadf8\uc778\uc744 \ud65c\uc6a9\ud55c \ubaa8\ub378 \uc131\ub2a5 \ubd84\uc11d \ubc29\ubc95\uc744 \ubcf4\uc5ec\ub4dc\ub9ac\uaca0\uc2b5\ub2c8\ub2e4.\n\n## \uc900\ube44\n\n\uc544\ub798 \uba85\ub839\uc5b4\ub97c \uc2e4\ud589\ud558\uc5ec ``torch``\uc640 ``torchvision``\uc744 \uc124\uce58\ud569\ub2c8\ub2e4:\n\n```\npip install torch torchvision\n```\n"
      ]
    },
    {
      "cell_type": "markdown",
      "metadata": {},
      "source": [
        "## \uacfc\uc815\n\n1. \ub370\uc774\ud130 \ubc0f \ubaa8\ub378 \uc900\ube44\n2. \ud504\ub85c\ud30c\uc77c\ub7ec\ub97c \uc0ac\uc6a9\ud558\uc5ec \uc2e4\ud589 \uc774\ubca4\ud2b8(execution events) \uae30\ub85d\n3. \ud504\ub85c\ud30c\uc77c\ub7ec \uc2e4\ud589\n4. \ud150\uc11c\ubcf4\ub4dc\ub97c \uc0ac\uc6a9\ud558\uc5ec \uacb0\uacfc \ud655\uc778 \ubc0f \ubaa8\ub378 \uc131\ub2a5 \ubd84\uc11d\n5. \ud504\ub85c\ud30c\uc77c\ub7ec\uc758 \ub3c4\uc6c0\uc73c\ub85c \uc131\ub2a5 \uac1c\uc120\n6. \ub2e4\ub978 \uace0\uae09 \uae30\ub2a5\uc73c\ub85c \uc131\ub2a5 \ubd84\uc11d\n7. \ucd94\uac00 \uc5f0\uc2b5: AMD GPU\uc5d0\uc11c PyTorch \ud504\ub85c\ud30c\uc77c\ub9c1\n\n### 1. \ub370\uc774\ud130 \ubc0f \ubaa8\ub378 \uc900\ube44\n\n\uba3c\uc800 \ud544\uc694\ud55c \ub77c\uc774\ube0c\ub7ec\ub9ac\ub97c \ubaa8\ub450 \ubd88\ub7ec\uc635\ub2c8\ub2e4:\n\n\n"
      ]
    },
    {
      "cell_type": "code",
      "execution_count": null,
      "metadata": {
        "collapsed": false
      },
      "outputs": [],
      "source": [
        "import torch\nimport torch.nn\nimport torch.optim\nimport torch.profiler\nimport torch.utils.data\nimport torchvision.datasets\nimport torchvision.models\nimport torchvision.transforms as T"
      ]
    },
    {
      "cell_type": "markdown",
      "metadata": {},
      "source": [
        "\uc774\ud6c4 \uc785\ub825 \ub370\uc774\ud130\ub97c \uc900\ube44\ud569\ub2c8\ub2e4. \uc774 \ud29c\ud1a0\ub9ac\uc5bc\uc758 \uacbd\uc6b0 CIFAR10 \ub370\uc774\ud130\uc14b\uc744 \uc0ac\uc6a9\ud569\ub2c8\ub2e4.\n\uc6d0\ud558\ub294 \ud615\uc2dd\uc73c\ub85c \ubcc0\ud658\ud558\uace0 ``DataLoader``\ub97c \uc0ac\uc6a9\ud558\uc5ec \uac01 \ubc30\uce58(batch)\ub97c \ub85c\ub4dc\ud569\ub2c8\ub2e4.\n\n"
      ]
    },
    {
      "cell_type": "code",
      "execution_count": null,
      "metadata": {
        "collapsed": false
      },
      "outputs": [],
      "source": [
        "transform = T.Compose(\n    [T.Resize(224),\n     T.ToTensor(),\n     T.Normalize((0.5, 0.5, 0.5), (0.5, 0.5, 0.5))])\ntrain_set = torchvision.datasets.CIFAR10(root='./data', train=True, download=True, transform=transform)\ntrain_loader = torch.utils.data.DataLoader(train_set, batch_size=32, shuffle=True)"
      ]
    },
    {
      "cell_type": "markdown",
      "metadata": {},
      "source": [
        "\uadf8\ub7f0 \ub2e4\uc74c Resnet \ubaa8\ub378, \uc190\uc2e4 \ud568\uc218 \ubc0f \uc635\ud2f0\ub9c8\uc774\uc800 \uac1d\uccb4\ub97c \uc0dd\uc131\ud569\ub2c8\ub2e4.\nGPU\uc5d0\uc11c \uc2e4\ud589\ud558\uae30 \uc704\ud574 \ubaa8\ub378 \ubc0f \uc190\uc2e4\uc744 GPU \uc7a5\uce58\ub85c \uc774\ub3d9\ud569\ub2c8\ub2e4.\n\n"
      ]
    },
    {
      "cell_type": "code",
      "execution_count": null,
      "metadata": {
        "collapsed": false
      },
      "outputs": [],
      "source": [
        "device = torch.device(\"cuda:0\")\nmodel = torchvision.models.resnet18(weights='IMAGENET1K_V1').cuda(device)\ncriterion = torch.nn.CrossEntropyLoss().cuda(device)\noptimizer = torch.optim.SGD(model.parameters(), lr=0.001, momentum=0.9)\nmodel.train()"
      ]
    },
    {
      "cell_type": "markdown",
      "metadata": {},
      "source": [
        "\uac01 \uc785\ub825 \ub370\uc774\ud130 \ubc30\uce58\uc5d0 \ub300\ud55c \ud559\uc2b5 \ub2e8\uacc4\ub97c \uc815\uc758\ud569\ub2c8\ub2e4.\n\n"
      ]
    },
    {
      "cell_type": "code",
      "execution_count": null,
      "metadata": {
        "collapsed": false
      },
      "outputs": [],
      "source": [
        "def train(data):\n    inputs, labels = data[0].to(device=device), data[1].to(device=device)\n    outputs = model(inputs)\n    loss = criterion(outputs, labels)\n    optimizer.zero_grad()\n    loss.backward()\n    optimizer.step()"
      ]
    },
    {
      "cell_type": "markdown",
      "metadata": {},
      "source": [
        "### 2. \ud504\ub85c\ud30c\uc77c\ub7ec\ub97c \uc0ac\uc6a9\ud558\uc5ec \uc2e4\ud589 \uc774\ubca4\ud2b8 \uae30\ub85d\n\n\ud504\ub85c\ud30c\uc77c\ub7ec\ub294 \ucee8\ud14d\uc2a4\ud2b8(context) \uad00\ub9ac\uc790\ub97c \ud1b5\ud574 \ud65c\uc131\ud654\ub418\uace0 \uba87 \uac00\uc9c0 \ub9e4\uac1c\ubcc0\uc218\ub97c \uc0ac\uc6a9\ud560 \uc218 \uc788\uc73c\uba70,\n\uac00\uc7a5 \uc720\uc6a9\ud55c \uac83\uc740 \uc544\ub798\uc640 \uac19\uc2b5\ub2c8\ub2e4:\n\n- ``schedule`` - step (int)\uc744 \ub2e8\uc77c \ub9e4\uac1c\ubcc0\uc218\ub85c \ubc1b\uc544\ub4e4\uc774\uace0,\n  \uac01 \ub2e8\uacc4\uc5d0\uc11c \uc218\ud589\ud560 \ud504\ub85c\ud30c\uc77c\ub7ec \uc791\uc5c5\uc744 \ubc18\ud658\ud558\ub294 \ud638\ucd9c \uac00\ub2a5\ud55c \ud568\uc218\uc785\ub2c8\ub2e4.\n\n  \uc774 \uc608\uc2dc\uc5d0\uc11c\ub294 ``wait=1, warmup=1, active=3, repeat=1`` \ub85c \uc124\uc815\ub418\uc5b4 \uc788\uc73c\uba70,\n  \ud504\ub85c\ud30c\uc77c\ub7ec\ub294 \uccab \ubc88\uc9f8 \ub2e8\uacc4/\ubc18\ubcf5(step/iteration)\uc744 \uac74\ub108\ub701\ub2c8\ub2e4.\n  \ub450 \ubc88\uc9f8\ubd80\ud130 \uc6cc\ubc0d\uc5c5(warming up)\uc744 \uc2dc\uc791\ud558\uba74,\n  \ub2e4\uc74c \uc138 \ubc88\uc758 \ubc18\ubcf5\uc744 \uae30\ub85d\ud558\uace0,\n  \uadf8 \ud6c4 \ucd94\uc801(trace)\uc744 \uc0ac\uc6a9\ud560 \uc218 \uc788\uac8c \ub418\uace0 on_trace_ready (\uc124\uc815\ub41c \uacbd\uc6b0)\uac00 \ud638\ucd9c\ub429\ub2c8\ub2e4.\n  \uc804\uccb4\uc801\uc73c\ub85c \uc774 \uc8fc\uae30\uac00 \ud55c \ubc88 \ubc18\ubcf5\ub429\ub2c8\ub2e4. \ud150\uc11c\ubcf4\ub4dc \ud50c\ub7ec\uadf8\uc778\uc5d0\uc11c \uac01 \uc8fc\uae30\ub294 \"span\"\uc774\ub77c\uace0 \ud569\ub2c8\ub2e4.\n\n  ``wait`` \ub2e8\uacc4\uc778 \ub3d9\uc548 \ud504\ub85c\ud30c\uc77c\ub7ec\ub294 \ube44\ud65c\uc131\ud654\ub429\ub2c8\ub2e4.\n  ``warmup`` \ub2e8\uacc4\uc778 \ub3d9\uc548\uc5d4 \ud504\ub85c\ud30c\uc77c\ub7ec\uac00 \ucd94\uc801(tracing)\uc744 \uc2dc\uc791\ud558\uc9c0\ub9cc \uacb0\uacfc\ub294 \ubb34\uc2dc\ub429\ub2c8\ub2e4.\n  \uc774\ub294 \ud504\ub85c\ud30c\uc77c\ub9c1 \uacfc\ubd80\ud558(overhead)\ub97c \uc904\uc774\uae30 \uc704\ud568\uc785\ub2c8\ub2e4.\n  \ud504\ub85c\ud30c\uc77c\ub9c1\uc744 \uc2dc\uc791\ud560 \ub54c \uacfc\ubd80\ud558\ub294 \ud06c\uace0 \ud504\ub85c\ud30c\uc77c\ub9c1 \uacb0\uacfc\uc5d0 \uc65c\uace1\uc744 \uac00\uc838\uc624\uae30 \uc27d\uc2b5\ub2c8\ub2e4.\n  ``active`` \ub2e8\uacc4\uc5d0\uc120 \ud504\ub85c\ud30c\uc77c\ub7ec\uac00 \uc791\ub3d9\ud558\uba70 \uc774\ubca4\ud2b8\ub97c \uae30\ub85d\ud569\ub2c8\ub2e4.\n- ``on_trace_ready`` - \uac01 \uc8fc\uae30 \ub9c8\uc9c0\ub9c9\uc5d0 \ud638\ucd9c\ub418\ub294 \ud568\uc218\uc785\ub2c8\ub2e4;\n  \uc774 \uc608\uc2dc\uc5d0\uc11c\ub294 ``torch.profiler.tensorboard_trace_handler``\ub97c \uc0ac\uc6a9\ud558\uc5ec \ud150\uc11c\ubcf4\ub4dc\uc758 \uacb0\uacfc \ud30c\uc77c\uc744 \uc0dd\uc131\ud569\ub2c8\ub2e4.\n  \ud504\ub85c\ud30c\uc77c\ub9c1 \ud6c4 \uacb0\uacfc \ud30c\uc77c\uc740 ``./log/resnet18`` \ub514\ub809\ud1a0\ub9ac\uc5d0 \uc800\uc7a5\ub429\ub2c8\ub2e4.\n  \ud150\uc11c\ubcf4\ub4dc\uc5d0\uc11c \ud504\ub85c\ud30c\uc77c(profile)\uc744 \ubd84\uc11d\ud558\ub824\uba74 \uc774 \ub514\ub809\ud1a0\ub9ac\ub97c ``logdir`` \ub9e4\uac1c\ubcc0\uc218\ub85c \uc9c0\uc815\ud574\uc57c \ud569\ub2c8\ub2e4.\n- ``record_shapes`` - \uc5f0\uc0b0\uc790 \uc785\ub825\uc758 shape\uc744 \uae30\ub85d\ud560\uc9c0 \uc5ec\ubd80\ub97c \ub098\ud0c0\ub0c5\ub2c8\ub2e4.\n- ``profile_memory`` - Track tensor memory \ud560\ub2f9/\ud560\ub2f9 \ud574\uc81c \uc5ec\ubd80\ub97c \ub098\ud0c0\ub0c5\ub2c8\ub2e4. \uc8fc\uc758, 1.10 \uc774\uc804 \ubc84\uc804\uc758 \ud30c\uc774\ud1a0\uce58\ub97c \uc0ac\uc6a9\ud558\ub294 \uacbd\uc6b0\n  \ud504\ub85c\ud30c\uc77c\ub9c1 \uc2dc\uac04\uc774 \uae38\ub2e4\uba74 \uc774 \uae30\ub2a5\uc744 \ube44\ud65c\uc131\ud654\ud558\uac70\ub098 \uc0c8 \ubc84\uc804\uc73c\ub85c \uc5c5\uadf8\ub808\uc774\ub4dc\ud574 \uc8fc\uc138\uc694.\n- ``with_stack`` - ops\uc5d0 \ub300\ud55c \uc18c\uc2a4 \uc815\ubcf4(\ud30c\uc77c \ubc0f \ub77c\uc778 \ubc88\ud638)\ub97c \uae30\ub85d \uc5ec\ubd80\ub97c \ub098\ud0c0\ub0c5\ub2c8\ub2e4.\n  \ub9cc\uc57d VS Code\uc5d0\uc11c \ud150\uc11c\ubcf4\ub4dc\ub97c \uc2e4\ud589\ud558\ub294 \uacbd\uc6b0 ([\ucc38\uace0](https://code.visualstudio.com/docs/datascience/pytorch-support#_tensorboard-integration)_),\n  \uc2a4\ud0dd \ud504\ub808\uc784(stack frame)\uc744 \ud074\ub9ad\ud558\uba74 \ud2b9\uc815 \ucf54\ub4dc \ub77c\uc778\uc73c\ub85c \uc774\ub3d9\ud569\ub2c8\ub2e4.\n\n"
      ]
    },
    {
      "cell_type": "code",
      "execution_count": null,
      "metadata": {
        "collapsed": false
      },
      "outputs": [],
      "source": [
        "with torch.profiler.profile(\n        schedule=torch.profiler.schedule(wait=1, warmup=1, active=3, repeat=1),\n        on_trace_ready=torch.profiler.tensorboard_trace_handler('./log/resnet18'),\n        record_shapes=True,\n        profile_memory=True,\n        with_stack=True\n) as prof:\n    for step, batch_data in enumerate(train_loader):\n        prof.step()  # \uac01 \ub2e8\uacc4\uc5d0\uc11c \ud638\ucd9c\ud558\uc5ec \ud504\ub85c\ud30c\uc77c\ub7ec\uc5d0\uac8c \ub2e8\uacc4\uc758 \uacbd\uacc4\ub97c \uc54c\ub824\uc57c \ud569\ub2c8\ub2e4.\n        if step >= 1 + 1 + 3:\n            break\n        train(batch_data)"
      ]
    },
    {
      "cell_type": "markdown",
      "metadata": {},
      "source": [
        "\ub610\ud55c, \ub2e4\uc74c\uc758 non-context \uad00\ub9ac\uc790(manager)\ub294 \uc2dc\uc791(start)/\uc815\uc9c0(stop) \uae30\ub2a5\ub3c4 \uc9c0\uc6d0\ub429\ub2c8\ub2e4.\n\n"
      ]
    },
    {
      "cell_type": "code",
      "execution_count": null,
      "metadata": {
        "collapsed": false
      },
      "outputs": [],
      "source": [
        "prof = torch.profiler.profile(\n        schedule=torch.profiler.schedule(wait=1, warmup=1, active=3, repeat=1),\n        on_trace_ready=torch.profiler.tensorboard_trace_handler('./log/resnet18'),\n        record_shapes=True,\n        with_stack=True)\nprof.start()\nfor step, batch_data in enumerate(train_loader):\n    prof.step()\n    if step >= 1 + 1 + 3:\n        break\n    train(batch_data)\nprof.stop()"
      ]
    },
    {
      "cell_type": "markdown",
      "metadata": {},
      "source": [
        "### 3. \ud504\ub85c\ud30c\uc77c\ub7ec \uc2e4\ud589\n\n\uc704 \ucf54\ub4dc\ub97c \uc2e4\ud589\ud569\ub2c8\ub2e4. \ud504\ub85c\ud30c\uc77c\ub9c1 \uacb0\uacfc\ub294 ``./log/resnet18`` \ub514\ub809\ud1a0\ub9ac\uc5d0 \uc800\uc7a5\ub429\ub2c8\ub2e4.\n\n"
      ]
    },
    {
      "cell_type": "markdown",
      "metadata": {},
      "source": [
        "### 4. \ud150\uc11c\ubcf4\ub4dc\ub97c \uc0ac\uc6a9\ud558\uc5ec \uacb0\uacfc \ud655\uc778 \ubc0f \ubaa8\ub378 \uc131\ub2a5 \ubd84\uc11d\n\n<div class=\"alert alert-info\"><h4>Note</h4><p>\ud150\uc11c\ubcf4\ub4dc \ud50c\ub7ec\uadf8\uc778(Tensorboard Plugin) \uc9c0\uc6d0\uc774 \uc911\ub2e8\ub418\uc5c8\uc73c\ubbc0\ub85c, \uc544\ub798 \uae30\ub2a5\ub4e4 \uc911 \uc77c\ubd80\ub294\n   \uc774\uc804\ucc98\ub7fc \ub3d9\uc791\ud558\uc9c0 \uc54a\uc744 \uc218 \uc788\uc2b5\ub2c8\ub2e4. \uc774\uc5d0 \ub300\ud55c \ub300\uc548\uc73c\ub85c [HTA](https://github.com/pytorch/kineto/tree/main#holistic-trace-analysis)\n   \ub97c \uc0ac\uc6a9\ud560 \uc218 \uc788\uc2b5\ub2c8\ub2e4.</p></div>\n\n\ud30c\uc774\ud1a0\uce58 \ud504\ub85c\ud30c\uc77c\ub7ec \ud150\uc11c\ubcf4\ub4dc \ud50c\ub7ec\uadf8\uc778\uc744 \uc124\uce58\ud569\ub2c8\ub2e4.\n\n```\npip install torch_tb_profiler\n```\n"
      ]
    },
    {
      "cell_type": "markdown",
      "metadata": {},
      "source": [
        "\ud150\uc11c\ubcf4\ub4dc\ub97c \uc2e4\ud589\ud569\ub2c8\ub2e4.\n\n```\ntensorboard --logdir=./log\n```\n"
      ]
    },
    {
      "cell_type": "markdown",
      "metadata": {},
      "source": [
        "\uad6c\uae00 \ud06c\ub86c(Google Chrome) \ube0c\ub77c\uc6b0\uc800 \ub610\ub294 \ub9c8\uc774\ud06c\ub85c\uc18c\ud504\ud2b8 \uc5e3\uc9c0(Microsoft Edge) \ube0c\ub77c\uc6b0\uc800\uc5d0\uc11c \ud150\uc11c\ubcf4\ub4dc \ud504\ub85c\ud30c\uc77c(profile) URL\uc5d0 \uc811\uc18d\ud569\ub2c8\ub2e4. (**Safari \ube0c\ub77c\uc6b0\uc800\ub294 \uc9c0\uc6d0\ud558\uc9c0 \uc54a\uc2b5\ub2c8\ub2e4.**)\n\n```\nhttp://localhost:6006/#pytorch_profiler\n```\n"
      ]
    },
    {
      "cell_type": "markdown",
      "metadata": {},
      "source": [
        "\uc544\ub798\uc640 \uac19\uc774 \ud504\ub85c\ud30c\uc77c\ub7ec \ud50c\ub7ec\uadf8\uc778 \ud398\uc774\uc9c0\ub97c \ubcfc \uc218 \uc788\uc2b5\ub2c8\ub2e4.\n\n- \uac1c\uc694(Overview)\n<img src=\"file://../../_static/img/profiler_overview1.png\" scale=\"25 %\">\n\n\uac1c\uc694 \ud398\uc774\uc9c0\uc5d0\ub294 \ubaa8\ub378 \uc131\ub2a5\uc5d0 \ub300\ud55c \ub300\ub7b5\uc801\uc778 \uc694\uc57d\uc774 \ud45c\uc2dc\ub429\ub2c8\ub2e4.\n\n\"GPU \uc694\uc57d(GPU Summary)\" \ud328\ub110\uc5d0\ub294 GPU \uad6c\uc131, GPU \uc0ac\uc6a9\ub7c9 \ubc0f Tensor \ucf54\uc5b4 \uc0ac\uc6a9\ub7c9\uc774 \ud45c\uc2dc\ub429\ub2c8\ub2e4.\n\uc774 \uc608\uc81c\uc5d0\uc11c\ub294 GPU \uc0ac\uc6a9\ub7c9\uc774 \ub0ae\uc2b5\ub2c8\ub2e4.\n\uc774\ub7ec\ud55c \uce21\uc815 \uc9c0\ud45c(metrics)\uc5d0 \ub300\ud55c \uc790\uc138\ud55c \ub0b4\uc6a9\uc740 [\uc5ec\uae30](https://github.com/pytorch/kineto/blob/main/tb_plugin/docs/gpu_utilization.md)_ \uc5d0\uc11c \ud655\uc778\ud574\uc8fc\uc138\uc694.\n\n\"\ub2e8\uacc4 \uc2dc\uac04 \uc138\ubd84\ud654(Step Time Breakdown)\"\ub294 \uac01 \ub2e8\uacc4\uc5d0\uc11c \uc218\ud589\ub41c \uc2dc\uac04\uc758 \ubd84\ud3ec\ub97c \ubcf4\uc5ec\uc90d\ub2c8\ub2e4.\n\uc774 \uc608\uc81c\uc5d0\uc11c\ub294 ``DataLoader`` \uacfc\ubd80\ud558\uac00 \uc0c1\ub2f9\ud55c \uac83\uc744 \ubcfc \uc218 \uc788\uc2b5\ub2c8\ub2e4.\n\n\ud558\ub2e8\uc758 \"\uc131\ub2a5 \uad8c\uc7a5\uc0ac\ud56d(Performance Recommendation)\"\uc740 \ud504\ub85c\ud30c\uc77c\ub9c1 \ub370\uc774\ud130\ub97c \uc0ac\uc6a9\ud558\uc5ec\n\ubc1c\uc0dd \uac00\ub2a5\ud55c \ubcd1\ubaa9 \ud604\uc0c1\uc744 \uc790\ub3d9\uc73c\ub85c \uac15\uc870\ud558\uace0,\n\uc2e4\ud589 \uac00\ub2a5\ud55c \ucd5c\uc801\ud654 \uc81c\uc548\uc744 \uc81c\uacf5\ud569\ub2c8\ub2e4.\n\n\uc67c\ucabd \"\ubcf4\uae30(Views)\" \ub4dc\ub86d\ub2e4\uc6b4(dropdown) \ubaa9\ub85d\uc5d0\uc11c \ubcf4\uae30 \ud398\uc774\uc9c0\ub97c \ubcc0\uacbd\ud560 \uc218 \uc788\uc2b5\ub2c8\ub2e4.\n\n<img src=\"file://../../_static/img/profiler_views_list.png\"\n   :alt:>\n\n\n- \uc5f0\uc0b0 \ubcf4\uae30(Operator view)\n\uc5f0\uc0b0 \ubcf4\uae30\ub294 \ud638\uc2a4\ud2b8 \ub610\ub294 \uc7a5\uce58\uc5d0\uc11c \uc2e4\ud589\ub418\ub294\n\ubaa8\ub4e0 \ud30c\uc774\ud1a0\uce58 \uc5f0\uc0b0\uc790\uc758 \uc131\ub2a5\uc744 \ud45c\uc2dc\ud569\ub2c8\ub2e4.\n\n<img src=\"file://../../_static/img/profiler_operator_view.png\" scale=\"25 %\">\n\n\"\uc140\ud504(Self)\" \uae30\uac04\uc5d0\ub294 \ud558\uc704 \uc5f0\uc0b0\uc758 \uc2dc\uac04\uc774 \ud3ec\ud568\ub418\uc9c0 \uc54a\uc2b5\ub2c8\ub2e4.\n\"\uc804\uccb4(Total)\" \uae30\uac04\uc5d0\ub294 \ud558\uc704 \uc5f0\uc0b0\uc758 \uc2dc\uac04\uc774 \ud3ec\ud568\ub429\ub2c8\ub2e4.\n\n- \ud638\ucd9c \uc2a4\ud0dd \ubcf4\uae30(View call stack)\n\uc5f0\uc0b0\uc790\uc758 ``View Callstack``\ub97c \ud074\ub9ad\ud558\uba74, \uc774\ub984\uc740 \uac19\uc9c0\ub9cc \uc11c\ub85c \ub2e4\ub978 \uc5f0\uc0b0\uc790\uac00 \ud45c\uc2dc\ub429\ub2c8\ub2e4.\n\ud558\uc704 \ud14c\uc774\ube14\uc758 ``View Callstack``\ub97c \ud074\ub9ad\ud558\uba74, \ud638\ucd9c \uc2a4\ud0dd \ud504\ub808\uc784(call stack frames)\uc774 \ud45c\uc2dc\ub429\ub2c8\ub2e4.\n\n<img src=\"file://../../_static/img/profiler_callstack.png\" scale=\"25 %\">\n\nVS Code \ub0b4\ubd80\uc5d0\uc11c \ud150\uc11c\ubcf4\ub4dc\uac00 \uc2e4\ud589\ub418\ub294 \uacbd\uc6b0\n([\uc2e4\ud589 \uac00\uc774\ub4dc](https://devblogs.microsoft.com/python/python-in-visual-studio-code-february-2021-release/#tensorboard-integration)_),\n\ud638\ucd9c \uc2a4\ud0dd \ud504\ub808\uc784(call stack frame)\uc744 \ud074\ub9ad\ud558\uba74 \ud2b9\uc815 \ucf54\ub4dc \ub77c\uc778\uc73c\ub85c \uc774\ub3d9\ud569\ub2c8\ub2e4.\n\n<img src=\"file://../../_static/img/profiler_vscode.png\" scale=\"25 %\">\n\n- \ucee4\ub110 \ubcf4\uae30(Kernel view)\nGPU \ucee4\ub110 \ubcf4\uae30(GPU kernel view)\ub294 \ubaa8\ub4e0 \ucee4\ub110(kernel)\uc774 GPU\uc5d0 \uc18c\ube44\ud55c \uc2dc\uac04\uc744 \ubcf4\uc5ec\uc90d\ub2c8\ub2e4.\n\n<img src=\"file://../../_static/img/profiler_kernel_view.png\" scale=\"25 %\">\n\n\uc0ac\uc6a9\ub41c Tensor \ucf54\uc5b4:\n\uc774 \ucee4\ub110(kernel)\uc774 tensor \ucf54\uc5b4\ub97c \uc0ac\uc6a9\ud558\ub294\uc9c0 \uc5ec\ubd80\ub8f0 \ub098\ud0c0\ub0c5\ub2c8\ub2e4.\n\nSM\ub2f9 \ud3c9\uade0 \ube14\ub7ed \uc218:\nSM\ub2f9 \ube14\ub7ed \uc218 = \ucee4\ub110(kernel)\uc758 \ube14\ub7ed / GPU\uc758 SM \uc218.\n\uc774 \uc218\uce58\uac00 1\ubcf4\ub2e4 \uc791\uc73c\uba74 GPU \uba40\ud2f0\ud504\ub85c\uc138\uc11c\uac00 \uc644\uc804\ud788 \uc0ac\uc6a9\ub418\uc9c0 \uc54a\uc74c\uc744 \ub098\ud0c0\ub0c5\ub2c8\ub2e4.\n\"SM\ub2f9 \ud3c9\uade0 \ube14\ub7ed \uc218(Mean Blocks per SM)\"\ub294 \uc774 \ucee4\ub110 \uc774\ub984\uc758 \ubaa8\ub4e0 \uc2e4\ud589\uc5d0 \ub300\ud55c \uac00\uc911 \ud3c9\uade0\uc774\uace0, \uac01 \uc2e4\ud589 \uae30\uac04\uc744 \uac00\uc911\uce58\ub85c \uc0ac\uc6a9\ud558\uc600\uc2b5\ub2c8\ub2e4.\n\n\ud3c9\uade0 \uc608\uc0c1 \ub2ec\uc131 \uc810\uc720\uc728(Mean Est. Achieved Occupancy):\n\uc608\uc0c1 \ub2ec\uc131 \uc810\uc720\uc728(Est. Achieved Occupancy)\uc740 \uc5f4\uc758 \ud234\ud301(column's tooltip)\uc5d0 \uc815\uc758\ub418\uc5b4 \uc788\uc2b5\ub2c8\ub2e4.\n\uba54\ubaa8\ub9ac \ub300\uc5ed\ud3ed \uacbd\uacc4 \ucee4\ub110\uacfc \uac19\uc740 \ub300\ubd80\ubd84\uc758 \uacbd\uc6b0, \ub192\uc744\uc218\ub85d \uc88b\uc2b5\ub2c8\ub2e4.\n\"\ud3c9\uade0 \uc608\uc0c1 \ub2ec\uc131 \uc810\uc720\uc728(Mean Est. Achieved Occupancy)\"\uc740 \ucee4\ub110 \uc774\ub984\uc758 \ubaa8\ub4e0 \uc2e4\ud589\uc5d0 \ub300\ud55c \uac00\uc911 \ud3c9\uade0\uc774\uba70,\n\uac01 \uc2e4\ud589\uc758 \uc9c0\uc18d \uc2dc\uac04\uc744 \uac00\uc911\uce58\ub85c \uc0ac\uc6a9\ud569\ub2c8\ub2e4.\n\n- \ucd94\uc801 \ubcf4\uae30(Trace view)\n\ucd94\uc801 \ubcf4\uae30\ub294 \ud504\ub85c\ud30c\uc77c\ub41c \uc5f0\uc0b0\uc790\uc640 GPU \ucee4\ub110\uc758 \ud0c0\uc784\ub77c\uc778\uc744 \ubcf4\uc5ec\uc90d\ub2c8\ub2e4.\n\uc544\ub798\uc640 \uac19\uc774 \uc120\ud0dd\ud558\uc5ec \uc138\ubd80 \uc815\ubcf4\ub97c \ud655\uc778\ud560 \uc218 \uc788\uc2b5\ub2c8\ub2e4.\n\n<img src=\"file://../../_static/img/profiler_trace_view1.png\" scale=\"25 %\">\n\n\uc624\ub978\ucabd \ub3c4\uad6c \ubaa8\uc74c\uc744 \uc0ac\uc6a9\ud558\uc5ec \uadf8\ub798\ud504\ub97c \uc774\ub3d9\ud558\uace0 \ud655\ub300/\ucd95\uc18c\ud560 \uc218 \uc788\uc2b5\ub2c8\ub2e4.\n\ub610\ud55c \ud0a4\ubcf4\ub4dc\ub97c \uc0ac\uc6a9\ud558\uc5ec \ud0c0\uc784\ub77c\uc778 \uc548\uc5d0\uc11c \ud655\ub300/\uc774\ub3d9\ud560 \uc218 \uc788\uc2b5\ub2c8\ub2e4.\n'w'\ubc0f 's' \ud0a4\ub294 \ub9c8\uc6b0\uc2a4 \uc911\uc2ec\uc73c\ub85c \ud655\ub300\ub418\uba70,\n'a'\uc640 'd' \ud0a4\ub294 \ud0c0\uc784\ub77c\uc778\uc744 \uc88c\uc6b0\ub85c \uc774\ub3d9\ud569\ub2c8\ub2e4.\n\uc77d\uc744 \uc218 \uc788\ub294 \ud45c\ud604\uc774 \ubcf4\uc77c \ub54c\uae4c\uc9c0 \uc774 \ud0a4\ub97c \uc5ec\ub7ec \ubc88 \ub204\ub97c \uc218 \uc788\uc2b5\ub2c8\ub2e4.\n\n\uc5ed\ubc29\ud5a5 \uc5f0\uc0b0\uc790(backward operator)\uc758 \"Incoming Flow\" \ud544\ub4dc\uac00 \"forward correspond to backward\" \uac12\uc778 \uacbd\uc6b0,\n\ud14d\uc2a4\ud2b8\ub97c \ud074\ub9ad\ud558\uc5ec \uc2dc\uc791\ub418\ub294 \uc804\uc9c4 \uc5f0\uc0b0\uc790(forward operator)\ub97c \uac00\uc838\uc62c \uc218 \uc788\uc2b5\ub2c8\ub2e4.\n\n<img src=\"file://../../_static/img/profiler_trace_view_fwd_bwd.png\" scale=\"25 %\">\n\n\uc774 \uc608\uc2dc\uc5d0\uc11c\ub294 ``enumerate(DataLoader)``\ub85c \uc811\ub450\uc0ac\uac00 \ubd99\uc740 \uc774\ubca4\ud2b8\uc5d0 \ub9ce\uc740 \uc2dc\uac04\uc774 \uc18c\uc694\ub418\ub294 \uac83\uc744 \ud655\uc778\ud560 \uc218 \uc788\uc2b5\ub2c8\ub2e4.\n\uadf8\ub9ac\uace0 \ub300\ubd80\ubd84\uc758 \uae30\uac04 \ub3d9\uc548 GPU\ub294 \uc26c\ub294 \uc0c1\ud0dc\uc785\ub2c8\ub2e4.\n\uc774 \uae30\ub2a5\uc740 \ud638\uc2a4\ud2b8 \uce21\uc5d0\uc11c \ub370\uc774\ud130\ub97c \ub85c\ub4dc\ud558\uace0 \ub370\uc774\ud130\ub97c \ubcc0\ud658\ud558\ub294 \uae30\ub2a5\uc774\uae30 \ub54c\ubb38\uc5d0,\nGPU \ub9ac\uc18c\uc2a4\uac00 \ub0ad\ube44\ub429\ub2c8\ub2e4.\n\n"
      ]
    },
    {
      "cell_type": "markdown",
      "metadata": {},
      "source": [
        "### 5. \ud504\ub85c\ud30c\uc77c\ub7ec\uc758 \ub3c4\uc6c0\uc73c\ub85c \uc131\ub2a5 \uac1c\uc120\n\n\"\uac1c\uc694(Overview)\" \ud398\uc774\uc9c0 \ud558\ub2e8\uc758 \"\uc131\ub2a5 \ucd94\ucc9c(Performance Recommendation)\" \uc81c\uc548\uc740 \ubcd1\ubaa9 \ud604\uc0c1\uc774 \" ``DataLoader``\uc784\uc744 \uc554\uc2dc\ud569\ub2c8\ub2e4.\n\ud30c\uc774\ud1a0\uce58 ``DataLoader``\ub294 \uae30\ubcf8\uc801\uc73c\ub85c \ub2e8\uc77c \ud504\ub85c\uc138\uc2a4\ub97c \uc0ac\uc6a9\ud569\ub2c8\ub2e4.\n\uc0ac\uc6a9\uc790\ub294 \ub9e4\uac1c\ubcc0\uc218 ``num_workers``\ub97c \uc124\uc815\ud558\uc5ec \ub2e4\uc911 \ud504\ub85c\uc138\uc2a4 \ub370\uc774\ud130 \ub85c\ub4dc\ub97c \ud65c\uc131\ud654\ud560 \uc218 \uc788\uc2b5\ub2c8\ub2e4.\n\uc790\uc138\ud55c \ub0b4\uc6a9\uc740 [\uc5ec\uae30](https://pytorch.org/docs/stable/data.html#single-and-multi-process-data-loading)_ \uc5d0 \uc788\uc2b5\ub2c8\ub2e4.\n\n\uc774 \uc608\uc2dc\uc5d0\uc11c \"\uc131\ub2a5 \uad8c\uc7a5\uc0ac\ud56d(Performance Recommendation)\"\uc5d0 \ub530\ub77c \uc544\ub798\uc640 \uac19\uc774 ``num_workers``\ub97c \uc124\uc815\ud558\uace0,\n``./log/resnet18_4workers``\uc640 \uac19\uc740 \ub2e4\ub978 \uc774\ub984\uc744 ``tensorboard_trace_handler``\ub85c \uc804\ub2ec\ud55c \ud6c4 \ub2e4\uc2dc \uc2e4\ud589\ud569\ub2c8\ub2e4.\n\n```\ntrain_loader = torch.utils.data.DataLoader(train_set, batch_size=32, shuffle=True, num_workers=4)\n```\n"
      ]
    },
    {
      "cell_type": "markdown",
      "metadata": {},
      "source": [
        "\uadf8\ub7f0 \ub2e4\uc74c \uc67c\ucabd \"\uc2e4\ud589(Runs)\" \ub4dc\ub86d\ub2e4\uc6b4(dropdown) \ubaa9\ub85d\uc5d0\uc11c \ucd5c\uadfc \ud504\ub85c\ud30c\uc77c\ub41c \uc2e4\ud589\uc744 \uc120\ud0dd\ud569\ub2c8\ub2e4.\n\n<img src=\"file://../../_static/img/profiler_overview2.png\" scale=\"25 %\">\n\n\uc704\uc758 \ubcf4\uae30(view)\uc5d0\uc11c \uc774\uc804 \uc2e4\ud589\uc778 132ms\uc5d0 \ube44\ud574 \ub2e8\uacc4(step) \uc2dc\uac04\uc774 \uc57d 76ms\ub85c \uac10\uc18c\ud558\uace0,\n``DataLoader``\uc758 \uc2dc\uac04 \uac10\uc18c\uac00 \uc8fc\ub85c \uae30\uc5ec\ud55c\ub2e4\ub294 \uac83\uc744 \uc54c \uc218 \uc788\uc2b5\ub2c8\ub2e4.\n\n<img src=\"file://../../_static/img/profiler_trace_view2.png\" scale=\"25 %\">\n\n\uc704\uc758 \ubcf4\uae30(view)\uc5d0\uc11c ``enumerate(DataLoader)``\uc758 \ub7f0\ud0c0\uc784\uc774 \uac10\uc18c\ud558\uace0,\nGPU \ud65c\uc6a9\ub3c4\uac00 \uc99d\uac00\ud558\ub294 \uac83\uc744 \uc54c \uc218 \uc788\uc2b5\ub2c8\ub2e4.\n\n"
      ]
    },
    {
      "cell_type": "markdown",
      "metadata": {},
      "source": [
        "### 6. \ub2e4\ub978 \uace0\uae09 \uae30\ub2a5\uc73c\ub85c \uc131\ub2a5 \ubd84\uc11d\n\n- \uba54\ubaa8\ub9ac \ubcf4\uae30(Memory view)\n\uba54\ubaa8\ub9ac \ud504\ub85c\ud30c\uc77c\uc744 \uc124\uc815\ud558\ub824\uba74 ``torch.profiler.profile`` \uc778\uc218\uc5d0\uc11c ``profile_memory``\ub97c ``True``\ub85c \uc124\uc815\ud574\uc57c \ud569\ub2c8\ub2e4.\n\nAzure\uc758 \uae30\uc874 \uc608\uc81c\ub97c \uc0ac\uc6a9\ud574 \ubcfc \uc218 \uc788\uc2b5\ub2c8\ub2e4.\n\n```\npip install azure-storage-blob\ntensorboard --logdir=https://torchtbprofiler.blob.core.windows.net/torchtbprofiler/demo/memory_demo_1_10\n```\n\ud504\ub85c\ud30c\uc77c\ub7ec\ub294 \ud504\ub85c\ud30c\uc77c\ub9c1 \uc911\uc5d0 \ubaa8\ub4e0 \uba54\ubaa8\ub9ac \ud560\ub2f9/\ud574\uc81c \uc774\ubca4\ud2b8\uc640 \ud560\ub2f9\uc790\uc758 \ub0b4\ubd80 \uc0c1\ud0dc\ub97c \uae30\ub85d\ud569\ub2c8\ub2e4.\n\uba54\ubaa8\ub9ac \ubcf4\uae30(memory view)\ub294 \ub2e4\uc74c\uacfc \uac19\uc774 \uc138 \uac00\uc9c0 \uc694\uc18c\ub85c \uad6c\uc131\ub429\ub2c8\ub2e4.\n\n<img src=\"file://../../_static/img/profiler_memory_view.png\" scale=\"25 %\">\n\n\uad6c\uc131 \uc694\uc18c\ub294 \uac01\uac01 \uba54\ubaa8\ub9ac \uace1\uc120 \uadf8\ub798\ud504, \uba54\ubaa8\ub9ac \uc774\ubca4\ud2b8 \ud14c\uc774\ube14 \ubc0f \uba54\ubaa8\ub9ac \ud1b5\uacc4 \ud14c\uc774\ube14\uc785\ub2c8\ub2e4.\n\n\uba54\ubaa8\ub9ac \uc720\ud615\uc740 \"\uc7a5\uce58(Device)\" \uc120\ud0dd \uc0c1\uc790\uc5d0\uc11c \uc120\ud0dd\ud560 \uc218 \uc788\uc2b5\ub2c8\ub2e4.\n\uc608\ub97c \ub4e4\uba74, \ub2e4\uc74c \ud45c\uc5d0\uc11c \"GPU0\"\uc740 GPU 0\uc5d0\uc11c\uc758 \uac01 \uc5f0\uc0b0\uc790\uc758 \uba54\ub85c\ub9ac \uc0ac\uc6a9\ub7c9\ub9cc \ubcf4\uc5ec\uc8fc\uace0, CPU \ub610\ub294 \ub2e4\ub978 GPU\ub97c \ud3ec\ud568\ud558\uc9c0 \uc54a\ub294\ub2e4\ub294 \uac83\uc744 \uc758\ubbf8\ud569\ub2c8\ub2e4.\n\n\uba54\ubaa8\ub9ac \uace1\uc120\uc740 \uba54\ubaa8\ub9ac \uc18c\ube44\uc758 \ucd94\uc138\ub97c \ubcf4\uc5ec\uc90d\ub2c8\ub2e4. \"Allocated\" \uace1\uc120\uc740 \uc2e4\uc81c \uc0ac\uc6a9 \uc911\uc778 \ucd1d \uba54\ubaa8\ub9ac,\n\uc608\ub97c \ub4e4\uba74 tensor\ub97c \ubcf4\uc5ec\uc90d\ub2c8\ub2e4. \ud30c\uc774\ud1a0\uce58\uc5d0\uc11c \uce90\uc2f1 \uba54\ucee4\ub2c8\uc998(caching mechanism)\uc740 CUDA \ud560\ub2f9\uae30 \ubc0f \uc77c\ubd80 \ub2e4\ub978 \ud560\ub2f9\uae30\uc5d0 \uc0ac\uc6a9\ub429\ub2c8\ub2e4.\n\"Reserved\" \uace1\uc120\uc740 \ud560\ub2f9\uc790\uc5d0 \uc758\ud574 \uc608\uc57d\ub41c \ucd1d \uba54\ubaa8\ub9ac\ub97c \ubcf4\uc5ec\uc90d\ub2c8\ub2e4. \uadf8\ub798\ud504\ub97c \uc88c\ud074\ub9ad\ud558\uace0 \ub04c\uc5b4\uc11c\n\uc6d0\ud558\ub294 \ubc94\uc704\uc758 \uc774\ubca4\ud2b8\ub97c \uc120\ud0dd\ud560 \uc218 \uc788\uc2b5\ub2c8\ub2e4:\n\n<img src=\"file://../../_static/img/profiler_memory_curve_selecting.png\" scale=\"25 %\">\n\n\uc120\ud0dd\ud55c \ud6c4\uc5d0\ub294 \uc138 \uac00\uc9c0 \uad6c\uc131 \uc694\uc18c\uac00 \uc81c\ud55c\ub41c \ubc94\uc704\uc5d0 \ub9de\uac8c \uc5c5\ub370\uc774\ud2b8\ub418\uc5b4\n\uc790\uc138\ud55c \uc815\ubcf4\ub97c \uc5bb\uc744 \uc218 \uc788\uc2b5\ub2c8\ub2e4. \uc774 \ud504\ub85c\uc138\uc2a4\ub97c \ubc18\ubcf5\ud558\uba74, \ub9e4\uc6b0 \uc138\ubd84\ud654\ub41c \uc138\ubd80 \uc815\ubcf4\ub97c \ud655\ub300\ud560 \uc218 \uc788\uc2b5\ub2c8\ub2e4. \uadf8\ub798\ud504\ub97c \uc6b0\ud074\ub9ad\ud558\uba74\n\uadf8\ub798\ud504\uac00 \ucd08\uae30 \uc0c1\ud0dc\ub85c \uc7ac\uc124\uc815\ub429\ub2c8\ub2e4.\n\n<img src=\"file://../../_static/img/profiler_memory_curve_single.png\" scale=\"25 %\">\n\n\uba54\ubaa8\ub9ac \uc774\ubca4\ud2b8 \ud14c\uc774\ube14\uc5d0\uc11c \ud560\ub2f9 \ubc0f \ud574\uc81c \uc774\ubca4\ud2b8\ub294 \ud558\ub098\uc758 \ud56d\ubaa9\uc73c\ub85c \uc30d\uc73c\ub85c \uad6c\uc131\ub429\ub2c8\ub2e4. \"operator\" \uc5f4\uc5d0\ub294\n\ud560\ub2f9\uc744 \ubc1c\uc0dd\uc2dc\ud0a4\ub294 \uc989\uc2dc ATen \uc5f0\uc0b0\uc790\uac00 \ud45c\uc2dc\ub429\ub2c8\ub2e4. \ud30c\uc774\ud1a0\uce58\uc5d0\uc11c ATen \uc5f0\uc0b0\uc790\ub294 \uc77c\ubc18\uc801\uc73c\ub85c\n``aten::empty``\ub97c \uc0ac\uc6a9\ud558\uc5ec \uba54\ubaa8\ub9ac\ub97c \ud560\ub2f9\ud569\ub2c8\ub2e4. \uc608\ub97c \ub4e4\uc5b4, ``aten::ones``\uc740 ``aten::empty`` \ub2e4\uc74c\uc5d0\n``aten::fill_``\ub85c \uad6c\ud604\ub429\ub2c8\ub2e4. \uc5f0\uc0b0\uc790 \uc774\ub984\ub9cc ``aten::empty``\ub85c \ud45c\uc2dc\ud574\ub3c4 \ubcc4 \ub3c4\uc6c0\uc774 \ub418\uc9c0 \uc54a\uc2b5\ub2c8\ub2e4. \uc774 \ud2b9\uc218\ud55c \uacbd\uc6b0\uc5d0\ub294\n``aten::ones (aten::empty)``\ub85c \ud45c\uc2dc\ub429\ub2c8\ub2e4. \"\ud560\ub2f9 \uc2dc\uac04(Allocation Time)\", \"\ud574\uc81c \uc2dc\uac04(Release Time)\" \ubc0f \"\uae30\uac04(Duration)\"\uc740\n\uc774\ubca4\ud2b8\uac00 \uc2dc\uac04 \ubc94\uc704\ub97c \ubc97\uc5b4\ub098\ub294 \uacbd\uc6b0 \uc5f4\uc758 \ub370\uc774\ud130\uac00 \ub204\ub77d\ub420 \uc218 \uc788\uc2b5\ub2c8\ub2e4.\n\n\uba54\ubaa8\ub9ac \ud1b5\uacc4 \ud14c\uc774\ube14\uc5d0\uc11c, \"\ud06c\uae30 \uc99d\uac00(Size Increase)\" \uc5f4\uc740 \ubaa8\ub4e0 \ud560\ub2f9 \ud06c\uae30\ub97c \ud569\uc0b0\ud558\uace0 \ubaa8\ub4e0 \uba54\ubaa8\ub9ac \ub9b4\ub9ac\uc2a4(release)\n\ud06c\uae30\ub97c \ube80 \uac12, \uc989, \uc774 \uc5f0\uc0b0\uc790 \uc774\ud6c4\uc758 \uba54\ubaa8\ub9ac \uc0ac\uc6a9\ub7c9 \uc21c \uc99d\uac00 \uac12\uc785\ub2c8\ub2e4. \"\uc790\uccb4 \ud06c\uae30 \uc99d\uac00(Self Size Increase)\" \uc5f4\uc740\n\"\ud06c\uae30 \uc99d\uac00(Size Increase)\"\uc640 \uc720\uc0ac \ud558\uc9c0\ub9cc, \ud558\uc704 \uc5f0\uc0b0\uc790\uc758 \ud560\ub2f9\uc740 \uacc4\uc0b0\ud558\uc9c0 \uc54a\uc2b5\ub2c8\ub2e4. ATen \uc5f0\uc0b0\uc790\uc758 \uad6c\ud604 \uc138\ubd80 \uc0ac\ud56d\uacfc\n\uad00\ub828\ud558\uc5ec, \uc77c\ubd80 \uc5f0\uc0b0\uc790\ub294 \ub2e4\ub978 \uc5f0\uc0b0\uc790\ub97c \ud638\ucd9c\ud560 \uc218 \uc788\uc73c\ubbc0\ub85c, \uba54\ubaa8\ub9ac \ud560\ub2f9\uc740 \ucf5c \uc2a4\ud0dd\uc758 \ubaa8\ub4e0 \uc218\uc900\uc5d0\uc11c\n\ubc1c\uc0dd\ud560 \uc218 \uc788\uc2b5\ub2c8\ub2e4. \uc989, \"\uc790\uccb4 \ud06c\uae30 \uc99d\uac00(Self Size Increase)\"\ub294 \ud604\uc7ac \uc218\uc900\uc758 \ucf5c \uc2a4\ud0dd\uc5d0\uc11c \uba54\ubaa8\ub9ac \uc0ac\uc6a9\ub7c9 \uc99d\uac00\ub9cc\uc744 \uacc4\uc0b0\ud569\ub2c8\ub2e4.\n\ub9c8\uc9c0\ub9c9\uc73c\ub85c, \"\ud560\ub2f9 \ud06c\uae30(Allocation Size)\" \uc5f4\uc740 \uba54\ubaa8\ub9ac \ub9b4\ub9ac\uc2a4\ub97c \uace0\ub824\ud558\uc9c0 \uc54a\uace0 \ubaa8\ub4e0 \ud560\ub2f9\uc744 \ud569\uc0b0\ud569\ub2c8\ub2e4.\n\n- \ubd84\uc0b0 \ubcf4\uae30(Distributed view)\n\uc774\uc81c \ud50c\ub7ec\uadf8\uc778\uc740 NCCL/GLOO\ub97c \ubc31\uc5d4\ub4dc\ub85c \uc0ac\uc6a9\ud558\ub294 DDP \ud504\ub85c\ud30c\uc77c\ub9c1\uc5d0 \ub300\ud55c \ubd84\uc0b0 \ubcf4\uae30\ub97c \uc9c0\uc6d0\ud569\ub2c8\ub2e4.\n\nAzure\uc758 \uae30\uc874 \uc608\uc81c\ub97c \uc0ac\uc6a9\ud574 \ubcfc \uc218 \uc788\uc2b5\ub2c8\ub2e4:\n\n```\npip install azure-storage-blob\ntensorboard --logdir=https://torchtbprofiler.blob.core.windows.net/torchtbprofiler/demo/distributed_bert\n```\n<img src=\"file://../../_static/img/profiler_distributed_view.png\" scale=\"25 %\">\n\n\"\ucef4\ud4e8\ud305/\ucee4\ubba4\ub2c8\ucf00\uc774\uc158 \uac1c\uc694(Computation/Communication Overview)\"\uc5d0\ub294 \ucef4\ud4e8\ud305/\ucee4\ubba4\ub2c8\ucf00\uc774\uc158 \ube44\uc728\uacfc \uc911\ubcf5 \uc815\ub3c4\uac00 \ud45c\uc2dc\ub429\ub2c8\ub2e4.\n\uc774 \ubcf4\uae30\uc5d0\uc11c, \uc0ac\uc6a9\uc790\ub294 \uc791\uc5c5\uc790 \uac04\uc758 \ub85c\ub4dc \ubc38\ub7f0\uc2f1 \ubb38\uc81c\ub97c \ud30c\uc545\ud560 \uc218 \uc788\uc2b5\ub2c8\ub2e4.\n\uc608\ub97c \ub4e4\uc5b4, \ud55c \uc791\uc5c5\uc790\uc758 \uc5f0\uc0b0 + \uc911\ubcf5 \uc2dc\uac04\uc774 \ub2e4\ub978 \uc791\uc5c5\uc790\ubcf4\ub2e4 \ud6e8\uc52c \ud070 \uacbd\uc6b0,\n\ub85c\ub4dc \ubc38\ub7f0\uc2f1\uc5d0 \ubb38\uc81c\uac00 \uc788\uac70\ub098 \uc774 \uc791\uc5c5\uc790\uac00 \ub099\uc624\uc790(straggler)\uc77c \uc218 \uc788\uc2b5\ub2c8\ub2e4.\n\n\"\ub3d9\uae30\ud654/\ucee4\ubba4\ub2c8\ucf00\uc774\uc158 \uac1c\uc694(Synchronizing/Communication Overview)\"\ub294 \ud1b5\uc2e0\uc758 \ud6a8\uc728\uc131\uc744 \ubcf4\uc5ec\uc90d\ub2c8\ub2e4.\n\"\ub370\uc774\ud130 \uad50\ud658 \uc2dc\uac04(Data Transfer Time)\"\uc740 \uc2e4\uc81c \ub370\uc774\ud130\ub97c \uad50\ud658\ud558\ub294 \uc2dc\uac04\uc785\ub2c8\ub2e4.\n\"\ub3d9\uae30\ud654 \uc2dc\uac04(Synchronizing Time)\"\uc740 \ub2e4\ub978 \uc791\uc5c5\uc790\uc640 \ub300\uae30 \ubc0f \ub3d9\uae30\ud654\ud558\ub294 \uc2dc\uac04\uc785\ub2c8\ub2e4.\n\n\ud55c \uc791\uc5c5\uc790\uc758 \"\ub3d9\uae30\ud654 \uc2dc\uac04\"\uc774 \ub2e4\ub978 \uc791\uc5c5\uc790 \ubcf4\ub2e4 \ud6e8\uc52c \uc9e7\ub2e4\uba74\u2019,\n\uc774 \uc791\uc5c5\uc790\ub294 \ub2e4\ub978 \uc791\uc5c5\uc790\ubcf4\ub2e4 \ub354 \ub9ce\uc740 \uacc4\uc0b0 \uc791\uc5c5\ub7c9\uc744 \uac00\uc9c8 \uc218 \uc788\ub294 \ub099\uc624\uc790(straggler)\uc77c \uc218 \uc788\uc2b5\ub2c8\ub2e4\u2019.\n\n\"\ucee4\ubba4\ub2c8\ucf00\uc774\uc158 \uc791\uc5c5 \ud1b5\uacc4(Communication Operations Stats)\"\ub294 \uac01 \uc791\uc5c5\uc790\uc758 \ubaa8\ub4e0 \ud1b5\uc2e0 \uc791\uc5c5\uc5d0 \ub300\ud55c \uc138\ubd80 \ud1b5\uacc4\ub97c \uc694\uc57d\ud569\ub2c8\ub2e4.\n\n"
      ]
    },
    {
      "cell_type": "markdown",
      "metadata": {},
      "source": [
        "### 7. \ucd94\uac00 \uc5f0\uc2b5: AMD GPU\uc5d0\uc11c PyTorch \ud504\ub85c\ud30c\uc77c\ub9c1\n\n\nThe AMD ROCm Platform is an open-source software stack designed for GPU computation, consisting of drivers, development tools, and APIs.\nWe can run the above mentioned steps on AMD GPUs. In this section, we will use Docker to install the ROCm base development image\nbefore installing PyTorch.\n\n"
      ]
    },
    {
      "cell_type": "markdown",
      "metadata": {},
      "source": [
        "For the purpose of example, let's create a directory called ``profiler_tutorial``, and save the code in **Step 1** as ``test_cifar10.py`` in this directory.\n\n```\nmkdir ~/profiler_tutorial\ncd profiler_tutorial\nvi test_cifar10.py\n```\n"
      ]
    },
    {
      "cell_type": "markdown",
      "metadata": {},
      "source": [
        "At the time of this writing, the Stable(``2.1.1``) Linux version of PyTorch on ROCm Platform is [ROCm 5.6](https://pytorch.org/get-started/locally/).\n\n\n- Obtain a base Docker image with the correct user-space ROCm version installed from [Docker Hub](https://hub.docker.com/repository/docker/rocm/dev-ubuntu-20.04).\n\nIt is ``rocm/dev-ubuntu-20.04:5.6``.\n\n- Start the ROCm base Docker container:\n\n\n```\ndocker run -it --network=host --device=/dev/kfd --device=/dev/dri --group-add=video --ipc=host --cap-add=SYS_PTRACE --security-opt seccomp=unconfined --shm-size 8G -v ~/profiler_tutorial:/profiler_tutorial rocm/dev-ubuntu-20.04:5.6\n```\n- Inside the container, install any dependencies needed for installing the wheels package.\n\n```\nsudo apt update\nsudo apt install libjpeg-dev python3-dev -y\npip3 install wheel setuptools\nsudo apt install python-is-python3\n```\n- Install the wheels:\n\n```\npip3 install torch torchvision torchaudio --index-url https://download.pytorch.org/whl/rocm5.6\n```\n- Install the ``torch_tb_profiler``, and then, run the Python file ``test_cifar10.py``:\n\n```\npip install torch_tb_profiler\ncd /profiler_tutorial\npython test_cifar10.py\n```\nNow, we have all the data needed to view in TensorBoard:\n\n```\ntensorboard --logdir=./log\n```\nChoose different views as described in **Step 4**. For example, below is the **Operator** View:\n\n<img src=\"file://../../_static/img/profiler_rocm_tensorboard_operartor_view.png\" scale=\"25 %\">\n\n"
      ]
    },
    {
      "cell_type": "markdown",
      "metadata": {},
      "source": [
        "At the time this section is written, **Trace** view does not work and it displays nothing. You can work around by typing ``chrome://tracing`` in your Chrome Browser.\n\n\n- Copy the ``trace.json`` file under ``~/profiler_tutorial/log/resnet18`` directory to the Windows.\nYou may need to copy the file by using ``scp`` if the file is located in a remote location.\n\n- Click **Load** button to load the trace JSON file from the ``chrome://tracing`` page in the browser.\n\n<img src=\"file://../../_static/img/profiler_rocm_chrome_trace_view.png\" scale=\"25 %\">\n\n"
      ]
    },
    {
      "cell_type": "markdown",
      "metadata": {},
      "source": [
        "As mentioned previously, you can move the graph and zoom in and out.\nYou can also use keyboard to zoom and move around inside the timeline.\nThe ``w`` and ``s`` keys zoom in centered around the mouse,\nand the ``a`` and ``d`` keys move the timeline left and right.\nYou can hit these keys multiple times until you see a readable representation.\n\n"
      ]
    },
    {
      "cell_type": "markdown",
      "metadata": {},
      "source": [
        "## \ub354 \uc54c\uc544\ubcf4\uae30\n\n\ud559\uc2b5\uc744 \uacc4\uc18d\ud558\ub824\uba74 \ub2e4\uc74c \ubb38\uc11c\ub97c \ucc38\uc870\ud558\uc2dc\uace0,\n[\uc5ec\uae30](https://github.com/pytorch/kineto/issues)_ \uc5d0\uc11c \uc790\uc720\ub86d\uac8c \uc774\uc288\ub97c \uc5f4\uc5b4\ubcf4\uc138\uc694.\n\n-  [PyTorch TensorBoard Profiler Github](https://github.com/pytorch/kineto/tree/master/tb_plugin)\n-  [torch.profiler API](https://pytorch.org/docs/master/profiler.html)\n-  [HTA](https://github.com/pytorch/kineto/tree/main#holistic-trace-analysis)\n\n"
      ]
    }
  ],
  "metadata": {
    "kernelspec": {
      "display_name": "Python 3",
      "language": "python",
      "name": "python3"
    },
    "language_info": {
      "codemirror_mode": {
        "name": "ipython",
        "version": 3
      },
      "file_extension": ".py",
      "mimetype": "text/x-python",
      "name": "python",
      "nbconvert_exporter": "python",
      "pygments_lexer": "ipython3",
      "version": "3.11.13"
    }
  },
  "nbformat": 4,
  "nbformat_minor": 0
}