{
  "cells": [
    {
      "cell_type": "markdown",
      "metadata": {},
      "source": [
        "\n# \uc624\ub514\uc624 \ub370\uc774\ud130\uc14b\n\n**\uc800\uc790**: [Moto Hira](moto@meta.com)_\n**\ubc88\uc5ed**: [\ubc31\uc2b9\uc5fd](https://github.com/aromadsh)_\n\n``torchaudio``\ub294 \uacf5\uc6a9\uc73c\ub85c \uc811\uadfc\ud560 \uc218 \uc788\ub294 \uc77c\ubc18\uc801\uc778 \ub370\uc774\ud130\uc14b\uc5d0 \uc27d\uac8c \uc811\uadfc\ud560 \uc218 \uc788\ub294 \uae30\ub2a5\uc744 \uc81c\uacf5\ud569\ub2c8\ub2e4. \n\uc0ac\uc6a9\ud560 \uc218 \uc788\ub294 \ub370\uc774\ud130\uc14b \ubaa9\ub85d\uc740 \uacf5\uc2dd \ubb38\uc11c\ub97c \ucc38\uace0\ud558\uc138\uc694. \n"
      ]
    },
    {
      "cell_type": "code",
      "execution_count": null,
      "metadata": {
        "collapsed": false
      },
      "outputs": [],
      "source": [
        "import torch\nimport torchaudio\n\nprint(torch.__version__)\nprint(torchaudio.__version__)"
      ]
    },
    {
      "cell_type": "code",
      "execution_count": null,
      "metadata": {
        "collapsed": false
      },
      "outputs": [],
      "source": [
        "import os\n\nimport IPython\n\nimport matplotlib.pyplot as plt\n\n\n_SAMPLE_DIR = \"_assets\"\nYESNO_DATASET_PATH = os.path.join(_SAMPLE_DIR, \"yes_no\")\nos.makedirs(YESNO_DATASET_PATH, exist_ok=True)\n\n\ndef plot_specgram(waveform, sample_rate, title=\"Spectrogram\"):\n    waveform = waveform.numpy()\n\n    figure, ax = plt.subplots()\n    ax.specgram(waveform[0], Fs=sample_rate)\n    figure.suptitle(title)\n    figure.tight_layout()"
      ]
    },
    {
      "cell_type": "markdown",
      "metadata": {},
      "source": [
        "\uc5ec\uae30\uc11c :py:class:`torchaudio.datasets.YESNO` \ub370\uc774\ud130\uc14b\uc758 \uc0ac\uc6a9 \ubc29\ubc95\uc744 \ubcfc \uc218 \uc788\uc2b5\ub2c8\ub2e4. \n\n\n"
      ]
    },
    {
      "cell_type": "code",
      "execution_count": null,
      "metadata": {
        "collapsed": false
      },
      "outputs": [],
      "source": [
        "dataset = torchaudio.datasets.YESNO(YESNO_DATASET_PATH, download=True)"
      ]
    },
    {
      "cell_type": "code",
      "execution_count": null,
      "metadata": {
        "collapsed": false
      },
      "outputs": [],
      "source": [
        "i = 1\nwaveform, sample_rate, label = dataset[i]\nplot_specgram(waveform, sample_rate, title=f\"Sample {i}: {label}\")\nIPython.display.Audio(waveform, rate=sample_rate)"
      ]
    },
    {
      "cell_type": "code",
      "execution_count": null,
      "metadata": {
        "collapsed": false
      },
      "outputs": [],
      "source": [
        "i = 3\nwaveform, sample_rate, label = dataset[i]\nplot_specgram(waveform, sample_rate, title=f\"Sample {i}: {label}\")\nIPython.display.Audio(waveform, rate=sample_rate)"
      ]
    },
    {
      "cell_type": "code",
      "execution_count": null,
      "metadata": {
        "collapsed": false
      },
      "outputs": [],
      "source": [
        "i = 5\nwaveform, sample_rate, label = dataset[i]\nplot_specgram(waveform, sample_rate, title=f\"Sample {i}: {label}\")\nIPython.display.Audio(waveform, rate=sample_rate)\n\ni = 5\nwaveform, sample_rate, label = dataset[i]\nplot_specgram(waveform, sample_rate, title=f\"Sample {i}: {label}\")\nIPython.display.Audio(waveform, rate=sample_rate)"
      ]
    }
  ],
  "metadata": {
    "kernelspec": {
      "display_name": "Python 3",
      "language": "python",
      "name": "python3"
    },
    "language_info": {
      "codemirror_mode": {
        "name": "ipython",
        "version": 3
      },
      "file_extension": ".py",
      "mimetype": "text/x-python",
      "name": "python",
      "nbconvert_exporter": "python",
      "pygments_lexer": "ipython3",
      "version": "3.11.13"
    }
  },
  "nbformat": 4,
  "nbformat_minor": 0
}