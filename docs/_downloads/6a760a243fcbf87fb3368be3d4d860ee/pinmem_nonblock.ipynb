{
  "cells": [
    {
      "cell_type": "code",
      "execution_count": null,
      "metadata": {
        "collapsed": false
      },
      "outputs": [],
      "source": [
        "# Google Colab\uc5d0\uc11c \ub178\ud2b8\ubd81\uc744 \uc2e4\ud589\ud558\uae30 \uc704\ud55c \ud301\uc740 \ub2e4\uc74c\uc744 \ucc38\uc870\ud558\uc138\uc694:\n# https://tutorials.pytorch.kr/beginner/colab \n%matplotlib inline"
      ]
    },
    {
      "cell_type": "markdown",
      "metadata": {},
      "source": [
        "\n# A guide on good usage of ``non_blocking`` and ``pin_memory()`` in PyTorch\n\n**Author**: [Vincent Moens](https://github.com/vmoens)\n\n## Introduction\n\nTransferring data from the CPU to the GPU is fundamental in many PyTorch applications.\nIt's crucial for users to understand the most effective tools and options available for moving data between devices.\nThis tutorial examines two key methods for device-to-device data transfer in PyTorch:\n:meth:`~torch.Tensor.pin_memory` and :meth:`~torch.Tensor.to` with the ``non_blocking=True`` option.\n\n### What you will learn\n\nOptimizing the transfer of tensors from the CPU to the GPU can be achieved through asynchronous transfers and memory\npinning. However, there are important considerations:\n\n- Using ``tensor.pin_memory().to(device, non_blocking=True)`` can be up to twice as slow as a straightforward ``tensor.to(device)``.\n- Generally, ``tensor.to(device, non_blocking=True)`` is an effective choice for enhancing transfer speed.\n- While ``cpu_tensor.to(\"cuda\", non_blocking=True).mean()`` executes correctly, attempting\n  ``cuda_tensor.to(\"cpu\", non_blocking=True).mean()`` will result in erroneous outputs.\n\n### Preamble\n\nThe performance reported in this tutorial are conditioned on the system used to build the tutorial.\nAlthough the conclusions are applicable across different systems, the specific observations may vary slightly\ndepending on the hardware available, especially on older hardware.\nThe primary objective of this tutorial is to offer a theoretical framework for understanding CPU to GPU data transfers.\nHowever, any design decisions should be tailored to individual cases and guided by benchmarked throughput measurements,\nas well as the specific requirements of the task at hand.\n"
      ]
    },
    {
      "cell_type": "code",
      "execution_count": null,
      "metadata": {
        "collapsed": false
      },
      "outputs": [],
      "source": [
        "import torch\n\nassert torch.cuda.is_available(), \"A cuda device is required to run this tutorial\""
      ]
    },
    {
      "cell_type": "markdown",
      "metadata": {},
      "source": [
        "This tutorial requires tensordict to be installed. If you don't have tensordict in your environment yet, install it\nby running the following command in a separate cell:\n\n```bash\n# Install tensordict with the following command\n!pip3 install tensordict\n```\nWe start by outlining the theory surrounding these concepts, and then move to concrete test examples of the features.\n\n\n## Background\n\n\n### Memory management basics\n\n\nWhen one creates a CPU tensor in PyTorch, the content of this tensor needs to be placed\nin memory. The memory we talk about here is a rather complex concept worth looking at carefully.\nWe distinguish two types of memory that are handled by the Memory Management Unit: the RAM (for simplicity)\nand the swap space on disk (which may or may not be the hard drive). Together, the available space in disk and RAM (physical memory)\nmake up the virtual memory, which is an abstraction of the total resources available.\nIn short, the virtual memory makes it so that the available space is larger than what can be found on RAM in isolation\nand creates the illusion that the main memory is larger than it actually is.\n\nIn normal circumstances, a regular CPU tensor is pageable which means that it is divided in blocks called pages that\ncan live anywhere in the virtual memory (both in RAM or on disk). As mentioned earlier, this has the advantage that\nthe memory seems larger than what the main memory actually is.\n\nTypically, when a program accesses a page that is not in RAM, a \"page fault\" occurs and the operating system (OS) then brings\nback this page into RAM (\"swap in\" or \"page in\").\nIn turn, the OS may have to swap out (or \"page out\") another page to make room for the new page.\n\nIn contrast to pageable memory, a pinned (or page-locked or non-pageable) memory is a type of memory that cannot\nbe swapped out to disk.\nIt allows for faster and more predictable access times, but has the downside that it is more limited than the\npageable memory (aka the main memory).\n\n.. figure:: /_static/img/pinmem/pinmem.png\n   :alt:\n\n### CUDA and (non-)pageable memory\n\n\nTo understand how CUDA copies a tensor from CPU to CUDA, let's consider the two scenarios above:\n\n- If the memory is page-locked, the device can access the memory directly in the main memory. The memory addresses are well\n  defined and functions that need to read these data can be significantly accelerated.\n- If the memory is pageable, all the pages will have to be brought to the main memory before being sent to the GPU.\n  This operation may take time and is less predictable than when executed on page-locked tensors.\n\nMore precisely, when CUDA sends pageable data from CPU to GPU, it must first create a page-locked copy of that data\nbefore making the transfer.\n\n### Asynchronous vs. Synchronous Operations with ``non_blocking=True`` (CUDA ``cudaMemcpyAsync``)\n\n\nWhen executing a copy from a host (such as, CPU) to a device (such as, GPU), the CUDA toolkit offers modalities to do these\noperations synchronously or asynchronously with respect to the host.\n\nIn practice, when calling :meth:`~torch.Tensor.to`, PyTorch always makes a call to\n[cudaMemcpyAsync](https://docs.nvidia.com/cuda/cuda-runtime-api/group__CUDART__MEMORY.html#group__CUDART__MEMORY_1g85073372f776b4c4d5f89f7124b7bf79).\nIf ``non_blocking=False`` (default), a ``cudaStreamSynchronize`` will be called after each and every ``cudaMemcpyAsync``, making\nthe call to :meth:`~torch.Tensor.to` blocking in the main thread.\nIf ``non_blocking=True``, no synchronization is triggered, and the main thread on the host is not blocked.\nTherefore, from the host perspective, multiple tensors can be sent to the device simultaneously,\nas the thread does not need to wait for one transfer to be completed to initiate the other.\n\n<div class=\"alert alert-info\"><h4>Note</h4><p>In general, the transfer is blocking on the device side (even if it isn't on the host side):\n  the copy on the device cannot occur while another operation is being executed.\n  However, in some advanced scenarios, a copy and a kernel execution can be done simultaneously on the GPU side.\n  As the following example will show, three requirements must be met to enable this:\n\n  1. The device must have at least one free DMA (Direct Memory Access) engine. Modern GPU architectures such as Volterra,\n     Tesla, or H100 devices have more than one DMA engine.\n\n  2. The transfer must be done on a separate, non-default cuda stream. In PyTorch, cuda streams can be handles using\n     :class:`~torch.cuda.Stream`.\n\n  3. The source data must be in pinned memory.\n\n  We demonstrate this by running profiles on the following script.</p></div>\n\n\n"
      ]
    },
    {
      "cell_type": "code",
      "execution_count": null,
      "metadata": {
        "collapsed": false
      },
      "outputs": [],
      "source": [
        "import contextlib\n\nfrom torch.cuda import Stream\n\n\ns = Stream()\n\ntorch.manual_seed(42)\nt1_cpu_pinned = torch.randn(1024**2 * 5, pin_memory=True)\nt2_cpu_paged = torch.randn(1024**2 * 5, pin_memory=False)\nt3_cuda = torch.randn(1024**2 * 5, device=\"cuda:0\")\n\nassert torch.cuda.is_available()\ndevice = torch.device(\"cuda\", torch.cuda.current_device())\n\n\n# The function we want to profile\ndef inner(pinned: bool, streamed: bool):\n    with torch.cuda.stream(s) if streamed else contextlib.nullcontext():\n        if pinned:\n            t1_cuda = t1_cpu_pinned.to(device, non_blocking=True)\n        else:\n            t2_cuda = t2_cpu_paged.to(device, non_blocking=True)\n        t_star_cuda_h2d_event = s.record_event()\n    # This operation can be executed during the CPU to GPU copy if and only if the tensor is pinned and the copy is\n    #  done in the other stream\n    t3_cuda_mul = t3_cuda * t3_cuda * t3_cuda\n    t3_cuda_h2d_event = torch.cuda.current_stream().record_event()\n    t_star_cuda_h2d_event.synchronize()\n    t3_cuda_h2d_event.synchronize()\n\n\n# Our profiler: profiles the `inner` function and stores the results in a .json file\ndef benchmark_with_profiler(\n    pinned,\n    streamed,\n) -> None:\n    torch._C._profiler._set_cuda_sync_enabled_val(True)\n    wait, warmup, active = 1, 1, 2\n    num_steps = wait + warmup + active\n    rank = 0\n    with torch.profiler.profile(\n        activities=[\n            torch.profiler.ProfilerActivity.CPU,\n            torch.profiler.ProfilerActivity.CUDA,\n        ],\n        schedule=torch.profiler.schedule(\n            wait=wait, warmup=warmup, active=active, repeat=1, skip_first=1\n        ),\n    ) as prof:\n        for step_idx in range(1, num_steps + 1):\n            inner(streamed=streamed, pinned=pinned)\n            if rank is None or rank == 0:\n                prof.step()\n    prof.export_chrome_trace(f\"trace_streamed{int(streamed)}_pinned{int(pinned)}.json\")"
      ]
    },
    {
      "cell_type": "markdown",
      "metadata": {},
      "source": [
        "Loading these profile traces in chrome (``chrome://tracing``) shows the following results: first, let's see\nwhat happens if both the arithmetic operation on ``t3_cuda`` is executed after the pageable tensor is sent to GPU\nin the main stream:\n\n\n"
      ]
    },
    {
      "cell_type": "code",
      "execution_count": null,
      "metadata": {
        "collapsed": false
      },
      "outputs": [],
      "source": [
        "benchmark_with_profiler(streamed=False, pinned=False)"
      ]
    },
    {
      "cell_type": "markdown",
      "metadata": {},
      "source": [
        ".. figure:: /_static/img/pinmem/trace_streamed0_pinned0.png\n   :alt:\n\nUsing a pinned tensor doesn't change the trace much, both operations are still executed consecutively:\n\n"
      ]
    },
    {
      "cell_type": "code",
      "execution_count": null,
      "metadata": {
        "collapsed": false
      },
      "outputs": [],
      "source": [
        "benchmark_with_profiler(streamed=False, pinned=True)"
      ]
    },
    {
      "cell_type": "markdown",
      "metadata": {},
      "source": [
        ".. figure:: /_static/img/pinmem/trace_streamed0_pinned1.png\n   :alt:\n\nSending a pageable tensor to GPU on a separate stream is also a blocking operation:\n\n"
      ]
    },
    {
      "cell_type": "code",
      "execution_count": null,
      "metadata": {
        "collapsed": false
      },
      "outputs": [],
      "source": [
        "benchmark_with_profiler(streamed=True, pinned=False)"
      ]
    },
    {
      "cell_type": "markdown",
      "metadata": {},
      "source": [
        ".. figure:: /_static/img/pinmem/trace_streamed1_pinned0.png\n   :alt:\n\nOnly pinned tensors copies to GPU on a separate stream overlap with another cuda kernel executed on\nthe main stream:\n\n"
      ]
    },
    {
      "cell_type": "code",
      "execution_count": null,
      "metadata": {
        "collapsed": false
      },
      "outputs": [],
      "source": [
        "benchmark_with_profiler(streamed=True, pinned=True)"
      ]
    },
    {
      "cell_type": "markdown",
      "metadata": {},
      "source": [
        ".. figure:: /_static/img/pinmem/trace_streamed1_pinned1.png\n   :alt:\n\n## A PyTorch perspective\n\n\n### ``pin_memory()``\n\n\nPyTorch offers the possibility to create and send tensors to page-locked memory through the\n:meth:`~torch.Tensor.pin_memory` method and constructor arguments.\nCPU tensors on a machine where CUDA is initialized can be cast to pinned memory through the :meth:`~torch.Tensor.pin_memory`\nmethod. Importantly, ``pin_memory`` is blocking on the main thread of the host: it will wait for the tensor to be copied to\npage-locked memory before executing the next operation.\nNew tensors can be directly created in pinned memory with functions like :func:`~torch.zeros`, :func:`~torch.ones` and other\nconstructors.\n\nLet us check the speed of pinning memory and sending tensors to CUDA:\n\n"
      ]
    },
    {
      "cell_type": "code",
      "execution_count": null,
      "metadata": {
        "collapsed": false
      },
      "outputs": [],
      "source": [
        "import torch\nimport gc\nfrom torch.utils.benchmark import Timer\nimport matplotlib.pyplot as plt\n\n\ndef timer(cmd):\n    median = (\n        Timer(cmd, globals=globals())\n        .adaptive_autorange(min_run_time=1.0, max_run_time=20.0)\n        .median\n        * 1000\n    )\n    print(f\"{cmd}: {median: 4.4f} ms\")\n    return median\n\n\n# A tensor in pageable memory\npageable_tensor = torch.randn(1_000_000)\n\n# A tensor in page-locked (pinned) memory\npinned_tensor = torch.randn(1_000_000, pin_memory=True)\n\n# Runtimes:\npageable_to_device = timer(\"pageable_tensor.to('cuda:0')\")\npinned_to_device = timer(\"pinned_tensor.to('cuda:0')\")\npin_mem = timer(\"pageable_tensor.pin_memory()\")\npin_mem_to_device = timer(\"pageable_tensor.pin_memory().to('cuda:0')\")\n\n# Ratios:\nr1 = pinned_to_device / pageable_to_device\nr2 = pin_mem_to_device / pageable_to_device\n\n# Create a figure with the results\nfig, ax = plt.subplots()\n\nxlabels = [0, 1, 2]\nbar_labels = [\n    \"pageable_tensor.to(device) (1x)\",\n    f\"pinned_tensor.to(device) ({r1:4.2f}x)\",\n    f\"pageable_tensor.pin_memory().to(device) ({r2:4.2f}x)\"\n    f\"\\npin_memory()={100*pin_mem/pin_mem_to_device:.2f}% of runtime.\",\n]\nvalues = [pageable_to_device, pinned_to_device, pin_mem_to_device]\ncolors = [\"tab:blue\", \"tab:red\", \"tab:orange\"]\nax.bar(xlabels, values, label=bar_labels, color=colors)\n\nax.set_ylabel(\"Runtime (ms)\")\nax.set_title(\"Device casting runtime (pin-memory)\")\nax.set_xticks([])\nax.legend()\n\nplt.show()\n\n# Clear tensors\ndel pageable_tensor, pinned_tensor\n_ = gc.collect()"
      ]
    },
    {
      "cell_type": "markdown",
      "metadata": {},
      "source": [
        "We can observe that casting a pinned-memory tensor to GPU is indeed much faster than a pageable tensor, because under\nthe hood, a pageable tensor must be copied to pinned memory before being sent to GPU.\n\nHowever, contrary to a somewhat common belief, calling :meth:`~torch.Tensor.pin_memory()` on a pageable tensor before\ncasting it to GPU should not bring any significant speed-up, on the contrary this call is usually slower than just\nexecuting the transfer. This makes sense, since we're actually asking Python to execute an operation that CUDA will\nperform anyway before copying the data from host to device.\n\n<div class=\"alert alert-info\"><h4>Note</h4><p>The PyTorch implementation of\n  [pin_memory](https://github.com/pytorch/pytorch/blob/5298acb5c76855bc5a99ae10016efc86b27949bd/aten/src/ATen/native/Memory.cpp#L58)\n  which relies on creating a brand new storage in pinned memory through [cudaHostAlloc](https://docs.nvidia.com/cuda/cuda-runtime-api/group__CUDART__MEMORY.html#group__CUDART__MEMORY_1gb65da58f444e7230d3322b6126bb4902)\n  could be, in rare cases, faster than transitioning data in chunks as ``cudaMemcpy`` does.\n  Here too, the observation may vary depending on the available hardware, the size of the tensors being sent or\n  the amount of available RAM.</p></div>\n\n### ``non_blocking=True``\n\n\nAs mentioned earlier, many PyTorch operations have the option of being executed asynchronously with respect to the host\nthrough the ``non_blocking`` argument.\n\nHere, to account accurately of the benefits of using ``non_blocking``, we will design a slightly more complex\nexperiment since we want to assess how fast it is to send multiple tensors to GPU with and without calling\n``non_blocking``.\n\n\n"
      ]
    },
    {
      "cell_type": "code",
      "execution_count": null,
      "metadata": {
        "collapsed": false
      },
      "outputs": [],
      "source": [
        "# A simple loop that copies all tensors to cuda\ndef copy_to_device(*tensors):\n    result = []\n    for tensor in tensors:\n        result.append(tensor.to(\"cuda:0\"))\n    return result\n\n\n# A loop that copies all tensors to cuda asynchronously\ndef copy_to_device_nonblocking(*tensors):\n    result = []\n    for tensor in tensors:\n        result.append(tensor.to(\"cuda:0\", non_blocking=True))\n    # We need to synchronize\n    torch.cuda.synchronize()\n    return result\n\n\n# Create a list of tensors\ntensors = [torch.randn(1000) for _ in range(1000)]\nto_device = timer(\"copy_to_device(*tensors)\")\nto_device_nonblocking = timer(\"copy_to_device_nonblocking(*tensors)\")\n\n# Ratio\nr1 = to_device_nonblocking / to_device\n\n# Plot the results\nfig, ax = plt.subplots()\n\nxlabels = [0, 1]\nbar_labels = [f\"to(device) (1x)\", f\"to(device, non_blocking=True) ({r1:4.2f}x)\"]\ncolors = [\"tab:blue\", \"tab:red\"]\nvalues = [to_device, to_device_nonblocking]\n\nax.bar(xlabels, values, label=bar_labels, color=colors)\n\nax.set_ylabel(\"Runtime (ms)\")\nax.set_title(\"Device casting runtime (non-blocking)\")\nax.set_xticks([])\nax.legend()\n\nplt.show()"
      ]
    },
    {
      "cell_type": "markdown",
      "metadata": {},
      "source": [
        "To get a better sense of what is happening here, let us profile these two functions:\n\n"
      ]
    },
    {
      "cell_type": "code",
      "execution_count": null,
      "metadata": {
        "collapsed": false
      },
      "outputs": [],
      "source": [
        "from torch.profiler import profile, ProfilerActivity\n\n\ndef profile_mem(cmd):\n    with profile(activities=[ProfilerActivity.CPU]) as prof:\n        exec(cmd)\n    print(cmd)\n    print(prof.key_averages().table(row_limit=10))"
      ]
    },
    {
      "cell_type": "markdown",
      "metadata": {},
      "source": [
        "Let's see the call stack with a regular ``to(device)`` first:\n\n\n"
      ]
    },
    {
      "cell_type": "code",
      "execution_count": null,
      "metadata": {
        "collapsed": false
      },
      "outputs": [],
      "source": [
        "print(\"Call to `to(device)`\", profile_mem(\"copy_to_device(*tensors)\"))"
      ]
    },
    {
      "cell_type": "markdown",
      "metadata": {},
      "source": [
        "and now the ``non_blocking`` version:\n\n\n"
      ]
    },
    {
      "cell_type": "code",
      "execution_count": null,
      "metadata": {
        "collapsed": false
      },
      "outputs": [],
      "source": [
        "print(\n    \"Call to `to(device, non_blocking=True)`\",\n    profile_mem(\"copy_to_device_nonblocking(*tensors)\"),\n)"
      ]
    },
    {
      "cell_type": "markdown",
      "metadata": {},
      "source": [
        "The results are without any doubt better when using ``non_blocking=True``, as all transfers are initiated simultaneously\non the host side and only one synchronization is done.\n\nThe benefit will vary depending on the number and the size of the tensors as well as depending on the hardware being\nused.\n\n<div class=\"alert alert-info\"><h4>Note</h4><p>Interestingly, the blocking ``to(\"cuda\")`` actually performs the same asynchronous device casting operation\n  (``cudaMemcpyAsync``) as the one with ``non_blocking=True`` with a synchronization point after each copy.</p></div>\n\n### Synergies\n\n\nNow that we have made the point that data transfer of tensors already in pinned memory to GPU is faster than from\npageable memory, and that we know that doing these transfers asynchronously is also faster than synchronously, we can\nbenchmark combinations of these approaches. First, let's write a couple of new functions that will call ``pin_memory``\nand ``to(device)`` on each tensor:\n\n\n"
      ]
    },
    {
      "cell_type": "code",
      "execution_count": null,
      "metadata": {
        "collapsed": false
      },
      "outputs": [],
      "source": [
        "def pin_copy_to_device(*tensors):\n    result = []\n    for tensor in tensors:\n        result.append(tensor.pin_memory().to(\"cuda:0\"))\n    return result\n\n\ndef pin_copy_to_device_nonblocking(*tensors):\n    result = []\n    for tensor in tensors:\n        result.append(tensor.pin_memory().to(\"cuda:0\", non_blocking=True))\n    # We need to synchronize\n    torch.cuda.synchronize()\n    return result"
      ]
    },
    {
      "cell_type": "markdown",
      "metadata": {},
      "source": [
        "The benefits of using :meth:`~torch.Tensor.pin_memory` are more pronounced for\nsomewhat large batches of large tensors:\n\n\n"
      ]
    },
    {
      "cell_type": "code",
      "execution_count": null,
      "metadata": {
        "collapsed": false
      },
      "outputs": [],
      "source": [
        "tensors = [torch.randn(1_000_000) for _ in range(1000)]\npage_copy = timer(\"copy_to_device(*tensors)\")\npage_copy_nb = timer(\"copy_to_device_nonblocking(*tensors)\")\n\ntensors_pinned = [torch.randn(1_000_000, pin_memory=True) for _ in range(1000)]\npinned_copy = timer(\"copy_to_device(*tensors_pinned)\")\npinned_copy_nb = timer(\"copy_to_device_nonblocking(*tensors_pinned)\")\n\npin_and_copy = timer(\"pin_copy_to_device(*tensors)\")\npin_and_copy_nb = timer(\"pin_copy_to_device_nonblocking(*tensors)\")\n\n# Plot\nstrategies = (\"pageable copy\", \"pinned copy\", \"pin and copy\")\nblocking = {\n    \"blocking\": [page_copy, pinned_copy, pin_and_copy],\n    \"non-blocking\": [page_copy_nb, pinned_copy_nb, pin_and_copy_nb],\n}\n\nx = torch.arange(3)\nwidth = 0.25\nmultiplier = 0\n\n\nfig, ax = plt.subplots(layout=\"constrained\")\n\nfor attribute, runtimes in blocking.items():\n    offset = width * multiplier\n    rects = ax.bar(x + offset, runtimes, width, label=attribute)\n    ax.bar_label(rects, padding=3, fmt=\"%.2f\")\n    multiplier += 1\n\n# Add some text for labels, title and custom x-axis tick labels, etc.\nax.set_ylabel(\"Runtime (ms)\")\nax.set_title(\"Runtime (pin-mem and non-blocking)\")\nax.set_xticks([0, 1, 2])\nax.set_xticklabels(strategies)\nplt.setp(ax.get_xticklabels(), rotation=45, ha=\"right\", rotation_mode=\"anchor\")\nax.legend(loc=\"upper left\", ncols=3)\n\nplt.show()\n\ndel tensors, tensors_pinned\n_ = gc.collect()"
      ]
    },
    {
      "cell_type": "markdown",
      "metadata": {},
      "source": [
        "### Other copy directions (GPU -> CPU, CPU -> MPS)\n\n\nUntil now, we have operated under the assumption that asynchronous copies from the CPU to the GPU are safe.\nThis is generally true because CUDA automatically handles synchronization to ensure that the data being accessed is\nvalid at read time __whenever the tensor is in pageable memory__.\n\nHowever, in other cases we cannot make the same assumption: when a tensor is placed in pinned memory, mutating the\noriginal copy after calling the host-to-device transfer may corrupt the data received on GPU.\nSimilarly, when a transfer is achieved in the opposite direction, from GPU to CPU, or from any device that is not CPU\nor GPU to any device that is not a CUDA-handled GPU (such as, MPS), there is no guarantee that the data read on GPU is\nvalid without explicit synchronization.\n\nIn these scenarios, these transfers offer no assurance that the copy will be complete at the time of\ndata access. Consequently, the data on the host might be incomplete or incorrect, effectively rendering it garbage.\n\nLet's first demonstrate this with a pinned-memory tensor:\n\n"
      ]
    },
    {
      "cell_type": "code",
      "execution_count": null,
      "metadata": {
        "collapsed": false
      },
      "outputs": [],
      "source": [
        "DELAY = 100000000\ntry:\n    i = -1\n    for i in range(100):\n        # Create a tensor in pin-memory\n        cpu_tensor = torch.ones(1024, 1024, pin_memory=True)\n        torch.cuda.synchronize()\n        # Send the tensor to CUDA\n        cuda_tensor = cpu_tensor.to(\"cuda\", non_blocking=True)\n        torch.cuda._sleep(DELAY)\n        # Corrupt the original tensor\n        cpu_tensor.zero_()\n        assert (cuda_tensor == 1).all()\n    print(\"No test failed with non_blocking and pinned tensor\")\nexcept AssertionError:\n    print(f\"{i}th test failed with non_blocking and pinned tensor. Skipping remaining tests\")"
      ]
    },
    {
      "cell_type": "markdown",
      "metadata": {},
      "source": [
        "Using a pageable tensor always works:\n\n\n"
      ]
    },
    {
      "cell_type": "code",
      "execution_count": null,
      "metadata": {
        "collapsed": false
      },
      "outputs": [],
      "source": [
        "i = -1\nfor i in range(100):\n    # Create a tensor in pageable memory\n    cpu_tensor = torch.ones(1024, 1024)\n    torch.cuda.synchronize()\n    # Send the tensor to CUDA\n    cuda_tensor = cpu_tensor.to(\"cuda\", non_blocking=True)\n    torch.cuda._sleep(DELAY)\n    # Corrupt the original tensor\n    cpu_tensor.zero_()\n    assert (cuda_tensor == 1).all()\nprint(\"No test failed with non_blocking and pageable tensor\")"
      ]
    },
    {
      "cell_type": "markdown",
      "metadata": {},
      "source": [
        "Now let's demonstrate that CUDA to CPU also fails to produce reliable outputs without synchronization:\n\n"
      ]
    },
    {
      "cell_type": "code",
      "execution_count": null,
      "metadata": {
        "collapsed": false
      },
      "outputs": [],
      "source": [
        "tensor = (\n    torch.arange(1, 1_000_000, dtype=torch.double, device=\"cuda\")\n    .expand(100, 999999)\n    .clone()\n)\ntorch.testing.assert_close(\n    tensor.mean(), torch.tensor(500_000, dtype=torch.double, device=\"cuda\")\n), tensor.mean()\ntry:\n    i = -1\n    for i in range(100):\n        cpu_tensor = tensor.to(\"cpu\", non_blocking=True)\n        torch.testing.assert_close(\n            cpu_tensor.mean(), torch.tensor(500_000, dtype=torch.double)\n        )\n    print(\"No test failed with non_blocking\")\nexcept AssertionError:\n    print(f\"{i}th test failed with non_blocking. Skipping remaining tests\")\ntry:\n    i = -1\n    for i in range(100):\n        cpu_tensor = tensor.to(\"cpu\", non_blocking=True)\n        torch.cuda.synchronize()\n        torch.testing.assert_close(\n            cpu_tensor.mean(), torch.tensor(500_000, dtype=torch.double)\n        )\n    print(\"No test failed with synchronize\")\nexcept AssertionError:\n    print(f\"One test failed with synchronize: {i}th assertion!\")"
      ]
    },
    {
      "cell_type": "markdown",
      "metadata": {},
      "source": [
        "Generally, asynchronous copies to a device are safe without explicit synchronization only when the target is a\nCUDA-enabled device and the original tensor is in pageable memory.\n\nIn summary, copying data from CPU to GPU is safe when using ``non_blocking=True``, but for any other direction,\n``non_blocking=True`` can still be used but the user must make sure that a device synchronization is executed before\nthe data is accessed.\n\n## Practical recommendations\n\n\nWe can now wrap up some early recommendations based on our observations:\n\nIn general, ``non_blocking=True`` will provide good throughput, regardless of whether the original tensor is or\nisn't in pinned memory.\nIf the tensor is already in pinned memory, the transfer can be accelerated, but sending it to\npin memory manually from python main thread is a blocking operation on the host, and hence will annihilate much of\nthe benefit of using ``non_blocking=True`` (as CUDA does the `pin_memory` transfer anyway).\n\nOne might now legitimately ask what use there is for the :meth:`~torch.Tensor.pin_memory` method.\nIn the following section, we will explore further how this can be used to accelerate the data transfer even more.\n\n## Additional considerations\n\n\nPyTorch notoriously provides a :class:`~torch.utils.data.DataLoader` class whose constructor accepts a\n``pin_memory`` argument.\nConsidering our previous discussion on ``pin_memory``, you might wonder how the ``DataLoader`` manages to\naccelerate data transfers if memory pinning is inherently blocking.\n\nThe key lies in the DataLoader's use of a separate thread to handle the transfer of data from pageable to pinned\nmemory, thus preventing any blockage in the main thread.\n\nTo illustrate this, we will use the TensorDict primitive from the homonymous library.\nWhen invoking :meth:`~tensordict.TensorDict.to`, the default behavior is to send tensors to the device asynchronously,\nfollowed by a single call to ``torch.device.synchronize()`` afterwards.\n\nAdditionally, ``TensorDict.to()`` includes a ``non_blocking_pin`` option  which initiates multiple threads to execute\n``pin_memory()`` before proceeding with to ``to(device)``.\nThis approach can further accelerate data transfers, as demonstrated in the following example.\n\n\n\n"
      ]
    },
    {
      "cell_type": "code",
      "execution_count": null,
      "metadata": {
        "collapsed": false
      },
      "outputs": [],
      "source": [
        "from tensordict import TensorDict\nimport torch\nfrom torch.utils.benchmark import Timer\nimport matplotlib.pyplot as plt\n\n# Create the dataset\ntd = TensorDict({str(i): torch.randn(1_000_000) for i in range(1000)})\n\n# Runtimes\ncopy_blocking = timer(\"td.to('cuda:0', non_blocking=False)\")\ncopy_non_blocking = timer(\"td.to('cuda:0')\")\ncopy_pin_nb = timer(\"td.to('cuda:0', non_blocking_pin=True, num_threads=0)\")\ncopy_pin_multithread_nb = timer(\"td.to('cuda:0', non_blocking_pin=True, num_threads=4)\")\n\n# Rations\nr1 = copy_non_blocking / copy_blocking\nr2 = copy_pin_nb / copy_blocking\nr3 = copy_pin_multithread_nb / copy_blocking\n\n# Figure\nfig, ax = plt.subplots()\n\nxlabels = [0, 1, 2, 3]\nbar_labels = [\n    \"Blocking copy (1x)\",\n    f\"Non-blocking copy ({r1:4.2f}x)\",\n    f\"Blocking pin, non-blocking copy ({r2:4.2f}x)\",\n    f\"Non-blocking pin, non-blocking copy ({r3:4.2f}x)\",\n]\nvalues = [copy_blocking, copy_non_blocking, copy_pin_nb, copy_pin_multithread_nb]\ncolors = [\"tab:blue\", \"tab:red\", \"tab:orange\", \"tab:green\"]\n\nax.bar(xlabels, values, label=bar_labels, color=colors)\n\nax.set_ylabel(\"Runtime (ms)\")\nax.set_title(\"Device casting runtime\")\nax.set_xticks([])\nax.legend()\n\nplt.show()"
      ]
    },
    {
      "cell_type": "markdown",
      "metadata": {},
      "source": [
        "In this example, we are transferring many large tensors from the CPU to the GPU.\nThis scenario is ideal for utilizing multithreaded ``pin_memory()``, which can significantly enhance performance.\nHowever, if the tensors are small, the overhead associated with multithreading may outweigh the benefits.\nSimilarly, if there are only a few tensors, the advantages of pinning tensors on separate threads become limited.\n\nAs an additional note, while it might seem advantageous to create permanent buffers in pinned memory to shuttle\ntensors from pageable memory before transferring them to the GPU, this strategy does not necessarily expedite\ncomputation. The inherent bottleneck caused by copying data into pinned memory remains a limiting factor.\n\nMoreover, transferring data that resides on disk (whether in shared memory or files) to the GPU typically requires an\nintermediate step of copying the data into pinned memory (located in RAM).\nUtilizing non_blocking for large data transfers in this context can significantly increase RAM consumption,\npotentially leading to adverse effects.\n\nIn practice, there is no one-size-fits-all solution.\nThe effectiveness of using multithreaded ``pin_memory`` combined with ``non_blocking`` transfers depends on a\nvariety of  factors, including the specific system, operating system, hardware, and the nature of the tasks\nbeing executed.\nHere is a list of factors to check when trying to speed-up data transfers between CPU and GPU, or comparing\nthroughput's across scenarios:\n\n- **Number of available cores**\n\n  How many CPU cores are available? Is the system shared with other users or processes that might compete for\n  resources?\n\n- **Core utilization**\n\n  Are the CPU cores heavily utilized by other processes? Does the application perform other CPU-intensive tasks\n  concurrently with data transfers?\n\n- **Memory utilization**\n\n  How much pageable and page-locked memory is currently being used? Is there sufficient free memory to allocate\n  additional pinned memory without affecting system performance? Remember that nothing comes for free, for instance\n  ``pin_memory`` will consume RAM and may impact other tasks.\n\n- **CUDA Device Capabilities**\n\n  Does the GPU support multiple DMA engines for concurrent data transfers? What are the specific capabilities and\n  limitations of the CUDA device being used?\n\n- **Number of tensors to be sent**\n\n  How many tensors are transferred in a typical operation?\n\n- **Size of the tensors to be sent**\n\n  What is the size of the tensors being transferred? A few large tensors or many small tensors may not benefit from\n  the same transfer program.\n\n- **System Architecture**\n\n  How is the system's architecture influencing data transfer speeds (for example, bus speeds, network latency)?\n\nAdditionally, allocating a large number of tensors or sizable tensors in pinned memory can monopolize a substantial\nportion of RAM.\nThis reduces the available memory for other critical operations, such as paging, which can negatively impact the\noverall performance of an algorithm.\n\n## Conclusion\n\n\nThroughout this tutorial, we have explored several critical factors that influence transfer speeds and memory\nmanagement when sending tensors from the host to the device. We've learned that using ``non_blocking=True`` generally\naccelerates data transfers, and that :meth:`~torch.Tensor.pin_memory` can also enhance performance if implemented\ncorrectly. However, these techniques require careful design and calibration to be effective.\n\nRemember that profiling your code and keeping an eye on the memory consumption are essential to optimize resource\nusage and achieve the best possible performance.\n\n## Additional resources\n\n\nIf you are dealing with issues with memory copies when using CUDA devices or want to learn more about\nwhat was discussed in this tutorial, check the following references:\n\n- [CUDA toolkit memory management doc](https://docs.nvidia.com/cuda/cuda-runtime-api/group__CUDART__MEMORY.html);\n- [CUDA pin-memory note](https://forums.developer.nvidia.com/t/pinned-memory/268474);\n- [How to Optimize Data Transfers in CUDA C/C++](https://developer.nvidia.com/blog/how-optimize-data-transfers-cuda-cc/);\n- [tensordict doc](https://pytorch.org/tensordict/stable/index.html) and [repo](https://github.com/pytorch/tensordict).\n\n\n"
      ]
    }
  ],
  "metadata": {
    "kernelspec": {
      "display_name": "Python 3",
      "language": "python",
      "name": "python3"
    },
    "language_info": {
      "codemirror_mode": {
        "name": "ipython",
        "version": 3
      },
      "file_extension": ".py",
      "mimetype": "text/x-python",
      "name": "python",
      "nbconvert_exporter": "python",
      "pygments_lexer": "ipython3",
      "version": "3.11.13"
    }
  },
  "nbformat": 4,
  "nbformat_minor": 0
}