{
  "cells": [
    {
      "cell_type": "code",
      "execution_count": null,
      "metadata": {
        "collapsed": false
      },
      "outputs": [],
      "source": [
        "# Google Colab\uc5d0\uc11c \ub178\ud2b8\ubd81\uc744 \uc2e4\ud589\ud558\uae30 \uc704\ud55c \ud301\uc740 \ub2e4\uc74c\uc744 \ucc38\uc870\ud558\uc138\uc694:\n# https://tutorials.pytorch.kr/beginner/colab \n%matplotlib inline"
      ]
    },
    {
      "cell_type": "markdown",
      "metadata": {},
      "source": [
        "\n# PyTorch\uc758 Shape\ub4e4\uc5d0 \ub300\ud55c \ucd94\ub860\n\ubc88\uc5ed: [\uc774\uc601\uc12d](https://github.com/0seob)\n\n\uc77c\ubc18\uc801\uc73c\ub85c PyTorch\ub85c \ubaa8\ub378\uc744 \uc791\uc131\ud560 \ub54c \ud2b9\uc815 \uacc4\uce35\uc758 \ub9e4\uac1c\ubcc0\uc218\ub294 \uc774\uc804 \uacc4\uce35\uc758 \ucd9c\ub825 shape\uc5d0 \ub530\ub77c \ub2ec\ub77c\uc9d1\ub2c8\ub2e4.\n\uc608\ub97c \ub4e4\uc5b4, ``nn.Linear`` \uacc4\uce35\uc758 ``in_features`` \ub294 \uc785\ub825\uc758 ``size(-1)`` \uc640 \uc77c\uce58\ud574\uc57c \ud569\ub2c8\ub2e4.\n\uba87\uba87 \uacc4\uce35\uc758 \uacbd\uc6b0, shape \uacc4\uc0b0\uc740 \ud569\uc131\uacf1 \uc5f0\uc0b0\uacfc \uac19\uc740 \ubcf5\uc7a1\ud55c \ubc29\uc815\uc2dd\uc744 \ud3ec\ud568\ud569\ub2c8\ub2e4.\n\n\uc774\ub97c \ub79c\ub364\ud55c \uc785\ub825\uc73c\ub85c \uc21c\uc804\ud30c(forward pass)\ub97c \uc2e4\ud589\ud558\uc5ec \ud574\uacb0\ud560 \uc218 \uc788\uc9c0\ub9cc, \uc774\ub294 \uba54\ubaa8\ub9ac\uc640 \ucef4\ud4e8\ud305 \ud30c\uc6cc\ub97c \ub0ad\ube44\ud569\ub2c8\ub2e4.\n\n\ub300\uc2e0\uc5d0 ``meta`` \ub514\ubc14\uc774\uc2a4\ub97c \ud65c\uc6a9\ud55c\ub2e4\uba74 \ub370\uc774\ud130\ub97c \uad6c\uccb4\ud654\ud558\uc9c0 \uc54a\uace0\ub3c4 \uacc4\uce35\uc758 \ucd9c\ub825 shape\uc744 \uacb0\uc815\ud560 \uc218 \uc788\uc2b5\ub2c8\ub2e4.\n"
      ]
    },
    {
      "cell_type": "code",
      "execution_count": null,
      "metadata": {
        "collapsed": false
      },
      "outputs": [],
      "source": [
        "import torch\nimport timeit\n\nt = torch.rand(2, 3, 10, 10, device=\"meta\")\nconv = torch.nn.Conv2d(3, 5, 2, device=\"meta\")\nstart = timeit.default_timer()\nout = conv(t)\nend = timeit.default_timer()\n\nprint(out)\nprint(f\"Time taken: {end-start}\")"
      ]
    },
    {
      "cell_type": "markdown",
      "metadata": {},
      "source": [
        "\ub370\uc774\ud130\uac00 \uad6c\uccb4\ud654\ub418\uc9c0 \uc54a\uae30 \ub54c\ubb38\uc5d0 \uc784\uc758\ub85c \ud070 \uc785\ub825\uc744 \uc804\ub2ec\ud574\ub3c4 shape \uacc4\uc0b0\uc5d0 \uc18c\uc694\ub418\ub294 \uc2dc\uac04\uc774 \n\ud06c\uac8c \ubcc0\uacbd\ub418\uc9c0\ub294 \uc54a\uc2b5\ub2c8\ub2e4.\n\n"
      ]
    },
    {
      "cell_type": "code",
      "execution_count": null,
      "metadata": {
        "collapsed": false
      },
      "outputs": [],
      "source": [
        "t_large = torch.rand(2**10, 3, 2**16, 2**16, device=\"meta\")\nstart = timeit.default_timer()\nout = conv(t_large)\nend = timeit.default_timer()\n\nprint(out)\nprint(f\"Time taken: {end-start}\")"
      ]
    },
    {
      "cell_type": "markdown",
      "metadata": {},
      "source": [
        "\ub2e4\uc74c\uacfc \uac19\uc740 \uc784\uc758\uc758 \ub124\ud2b8\uc6cc\ud06c\ub97c \uac00\uc815\ud569\ub2c8\ub2e4:\n\n"
      ]
    },
    {
      "cell_type": "code",
      "execution_count": null,
      "metadata": {
        "collapsed": false
      },
      "outputs": [],
      "source": [
        "import torch.nn as nn\nimport torch.nn.functional as F\n\n\nclass Net(nn.Module):\n    def __init__(self):\n        super().__init__()\n        self.conv1 = nn.Conv2d(3, 6, 5)\n        self.pool = nn.MaxPool2d(2, 2)\n        self.conv2 = nn.Conv2d(6, 16, 5)\n        self.fc1 = nn.Linear(16 * 5 * 5, 120)\n        self.fc2 = nn.Linear(120, 84)\n        self.fc3 = nn.Linear(84, 10)\n\n    def forward(self, x):\n        x = self.pool(F.relu(self.conv1(x)))\n        x = self.pool(F.relu(self.conv2(x)))\n        x = torch.flatten(x, 1) # \ubc30\uce58\ub97c \uc81c\uc678\ud55c \ubaa8\ub4e0 \ucc28\uc6d0\uc744 \ud3c9\ud0c4\ud654 \ud569\ub2c8\ub2e4.\n        x = F.relu(self.fc1(x))\n        x = F.relu(self.fc2(x))\n        x = self.fc3(x)\n        return x"
      ]
    },
    {
      "cell_type": "markdown",
      "metadata": {},
      "source": [
        "\uac01\uac01\uc758 \uacc4\uce35\uc5d0 \ucd9c\ub825\uc758 shape\uc744 \uc778\uc1c4\ud558\ub294 forward hook\uc744 \ub4f1\ub85d\ud558\uc5ec \ub124\ud2b8\uc6cc\ud06c\uc758 \n\uc911\uac04 shape\uc744 \ud655\uc778\ud560 \uc218 \uc788\uc2b5\ub2c8\ub2e4.\n\n"
      ]
    },
    {
      "cell_type": "code",
      "execution_count": null,
      "metadata": {
        "collapsed": false
      },
      "outputs": [],
      "source": [
        "def fw_hook(module, input, output):\n    print(f\"Shape of output to {module} is {output.shape}.\")\n\n\n# torch.device context manager(with \uad6c\ubb38) \ub0b4\ubd80\uc5d0\uc11c \uc0dd\uc131\ub41c \ubaa8\ub4e0 tensor\ub294 \n# meta \ub514\ubc14\uc774\uc2a4 \ub0b4\ubd80\uc5d0 \uc874\uc7ac\ud569\ub2c8\ub2e4.\nwith torch.device(\"meta\"):\n    net = Net()\n    inp = torch.randn((1024, 3, 32, 32))\n\nfor name, layer in net.named_modules():\n    layer.register_forward_hook(fw_hook)\n\nout = net(inp)"
      ]
    }
  ],
  "metadata": {
    "kernelspec": {
      "display_name": "Python 3",
      "language": "python",
      "name": "python3"
    },
    "language_info": {
      "codemirror_mode": {
        "name": "ipython",
        "version": 3
      },
      "file_extension": ".py",
      "mimetype": "text/x-python",
      "name": "python",
      "nbconvert_exporter": "python",
      "pygments_lexer": "ipython3",
      "version": "3.11.13"
    }
  },
  "nbformat": 4,
  "nbformat_minor": 0
}