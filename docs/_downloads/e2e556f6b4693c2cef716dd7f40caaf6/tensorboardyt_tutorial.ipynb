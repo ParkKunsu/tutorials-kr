{
  "cells": [
    {
      "cell_type": "code",
      "execution_count": null,
      "metadata": {
        "collapsed": false
      },
      "outputs": [],
      "source": [
        "# Google Colab\uc5d0\uc11c \ub178\ud2b8\ubd81\uc744 \uc2e4\ud589\ud558\uae30 \uc704\ud55c \ud301\uc740 \ub2e4\uc74c\uc744 \ucc38\uc870\ud558\uc138\uc694:\n# https://tutorials.pytorch.kr/beginner/colab \n%matplotlib inline"
      ]
    },
    {
      "cell_type": "markdown",
      "metadata": {},
      "source": [
        "\n[Introduction](introyt1_tutorial.html) ||\n[Tensors](tensors_deeper_tutorial.html) ||\n[Autograd](autogradyt_tutorial.html) ||\n[Building Models](modelsyt_tutorial.html) ||\n**TensorBoard Support** ||\n[Training Models](trainingyt.html) ||\n[Model Understanding](captumyt.html)\n\n# PyTorch TensorBoard \uc9c0\uc6d0\n\n**\ubc88\uc5ed**: [\ubc15\uc815\uc740](https://github.com/Angela-Park-JE/)\n\n\uc544\ub798 \uc601\uc0c1\uc774\ub098 [youtube](https://www.youtube.com/watch?v=6CEld3hZgqc)\\\ub97c \ucc38\uace0\ud558\uc138\uc694.\n\n.. raw:: html\n\n   <div style=\"margin-top:10px; margin-bottom:10px;\">\n     <iframe width=\"560\" height=\"315\" src=\"https://www.youtube.com/embed/6CEld3hZgqc\" frameborder=\"0\" allow=\"accelerometer; encrypted-media; gyroscope; picture-in-picture\" allowfullscreen></iframe>\n   </div>\n\n## \uc2dc\uc791\ud558\uae30\uc5d0 \uc55e\uc11c\n\n\uc774 \ud29c\ud1a0\ub9ac\uc5bc\uc744 \uc2e4\ud589\ud558\uae30 \uc704\ud574\uc11c PyTorch, TorchVision, \nMatplotlib \uadf8\ub9ac\uace0 TensorBoard\ub97c \uc124\uce58\ud574\uc57c \ud569\ub2c8\ub2e4.\n\n``conda`` \uc0ac\uc6a9 \uc2dc:\n\n```sh\nconda install pytorch torchvision -c pytorch\nconda install matplotlib tensorboard\n```\n``pip`` \uc0ac\uc6a9 \uc2dc:\n\n```sh\npip install torch torchvision matplotlib tensorboard\n```\n\ud55c\ubc88 \uc758\uc874\uc131\uc774 \uc788\ub294 \ubaa8\ub4c8\uc744 \uc124\uce58\ud558\uace0 \ub098\uc11c, \n\uc124\uce58\ud55c \ud658\uacbd\uc5d0\uc11c \uc774 notebook\uc744 \ub2e4\uc2dc \uc2dc\uc791\ud569\ub2c8\ub2e4.\n\n\n## \uac1c\uc694\n\n\uc774 notebook\uc5d0\uc11c\ub294 \ubcc0\ud615\ub41c LeNet-5\ub97c \nFashion-MNIST \ub370\uc774\ud130\uc14b\uc73c\ub85c \ud559\uc2b5\uc2dc\ud0ac \uac83\uc785\ub2c8\ub2e4.\nFashion-MNIST\ub294 \uc758\ubcf5\uc758 \uc885\ub958\ub97c \ub098\ud0c0\ub0b4\ub294 10\uac1c\uc758 \ud074\ub798\uc2a4 \ub808\uc774\ube14\uc744 \ud3ec\ud568\ud558\ub294 \n\ub2e4\uc591\ud55c \uc758\ub958\uc758 \ud0c0\uc77c \uc774\ubbf8\uc9c0 \uc138\ud2b8\uc785\ub2c8\ub2e4.\n"
      ]
    },
    {
      "cell_type": "code",
      "execution_count": null,
      "metadata": {
        "collapsed": false
      },
      "outputs": [],
      "source": [
        "# PyTorch \ubaa8\ub378\uacfc \ud6c8\ub828 \ud544\uc218 \uc694\uc18c\nimport torch\nimport torch.nn as nn\nimport torch.nn.functional as F\nimport torch.optim as optim\n\n# \uc774\ubbf8\uc9c0 \ub370\uc774\ud130\uc14b\uacfc \uc774\ubbf8\uc9c0 \uc870\uc791\nimport torchvision\nimport torchvision.transforms as transforms\n\n# \uc774\ubbf8\uc9c0 \uc2dc\uac01\ud654\nimport matplotlib.pyplot as plt\nimport numpy as np\n\n# PyTorch TensorBoard \uc9c0\uc6d0\nfrom torch.utils.tensorboard import SummaryWriter\n\n# \ub9cc\uc57d Google Colab\ucc98\ub7fc TensorFlow\uac00 \uc124\uce58\ub41c \ud658\uacbd\uc744 \uc0ac\uc6a9 \uc911\uc774\ub77c\uba74 \n# \uc544\ub798\uc758 \ucf54\ub4dc\ub97c \uc8fc\uc11d \ud574\uc81c\ud558\uc5ec \n# TensorBoard \ub514\ub809\ud130\ub9ac\uc5d0 \uc784\ubca0\ub529\uc744 \uc800\uc7a5\ud560 \ub54c\uc758 \ubc84\uadf8\ub97c \ubc29\uc9c0\ud558\uc138\uc694.\n\n# import tensorflow as tf\n# import tensorboard as tb\n# tf.io.gfile = tb.compat.tensorflow_stub.io.gfile"
      ]
    },
    {
      "cell_type": "markdown",
      "metadata": {},
      "source": [
        "## TensorBoard\uc5d0\uc11c \uc774\ubbf8\uc9c0 \ub098\ud0c0\ub0b4\uae30\n\n\uba3c\uc800, \ub370\uc774\ud130\uc14b\uc5d0\uc11c TensorBoard\ub85c \uc0d8\ud50c \uc774\ubbf8\uc9c0\ub97c \ucd94\uac00\ud569\ub2c8\ub2e4:\n\n\n"
      ]
    },
    {
      "cell_type": "code",
      "execution_count": null,
      "metadata": {
        "collapsed": false
      },
      "outputs": [],
      "source": [
        "# \ub370\uc774\ud130\uc14b\uc744 \ubaa8\uc544\uc11c \uc0ac\uc6a9 \uac00\ub2a5\ud558\ub3c4\ub85d \uc900\ube44\ud558\uae30\ntransform = transforms.Compose(\n    [transforms.ToTensor(),\n    transforms.Normalize((0.5,), (0.5,))])\n\n# \ud6c8\ub828\uacfc \uac80\uc99d\uc73c\ub85c \ubd84\ud560\ud558\uc5ec \uac01\uac01 ./data\uc5d0 \uc800\uc7a5\ud558\uae30\ntraining_set = torchvision.datasets.FashionMNIST('./data',\n    download=True,\n    train=True,\n    transform=transform)\nvalidation_set = torchvision.datasets.FashionMNIST('./data',\n    download=True,\n    train=False,\n    transform=transform)\n\ntraining_loader = torch.utils.data.DataLoader(training_set,\n                                              batch_size=4,\n                                              shuffle=True,\n                                              num_workers=2)\n\n\nvalidation_loader = torch.utils.data.DataLoader(validation_set,\n                                                batch_size=4,\n                                                shuffle=False,\n                                                num_workers=2)\n\n# \ud074\ub798\uc2a4 \ub808\uc774\ube14\nclasses = ('T-shirt/top', 'Trouser', 'Pullover', 'Dress', 'Coat',\n        'Sandal', 'Shirt', 'Sneaker', 'Bag', 'Ankle Boot')\n\n# \uc778\ub77c\uc778 \uc774\ubbf8\uc9c0 \uc2dc\uac01\ud654\ub97c \uc704\ud55c \ud568\uc218\ndef matplotlib_imshow(img, one_channel=False):\n    if one_channel:\n        img = img.mean(dim=0)\n    img = img / 2 + 0.5     # \ube44\uc815\uaddc\ud654(unnormalize)\n    npimg = img.numpy()\n    if one_channel:\n        plt.imshow(npimg, cmap=\"Greys\")\n    else:\n        plt.imshow(np.transpose(npimg, (1, 2, 0)))\n\n# 4\uac1c\uc758 \uc774\ubbf8\uc9c0\ub85c\ubd80\ud130 \ubc30\uce58 \ud558\ub098\ub97c \ucd94\ucd9c\ud558\uae30\ndataiter = iter(training_loader)\nimages, labels = next(dataiter)\n\n# \uc774\ubbf8\uc9c0\ub97c \ub098\ud0c0\ub0b4\uae30 \uc704\ud55c \uaca9\uc790 \uc0dd\uc131\nimg_grid = torchvision.utils.make_grid(images)\nmatplotlib_imshow(img_grid, one_channel=True)"
      ]
    },
    {
      "cell_type": "markdown",
      "metadata": {},
      "source": [
        "\uc704\uc5d0\uc11c TorchVision\uacfc Matplotlib\uc744 \uc0ac\uc6a9\ud558\uc5ec \n\uc785\ub825 \ub370\uc774\ud130\uc758 \ubbf8\ub2c8 \ubc30\uce58\ub97c \uc2dc\uac01\uc801\uc73c\ub85c \ubc30\uc5f4\ud55c \uaca9\uc790\ub97c \ub9cc\ub4e4\uc5c8\uc2b5\ub2c8\ub2e4. \uc544\ub798\uc5d0\uc11c\ub294 TensorBoard\uc5d0\uc11c \uc0ac\uc6a9\ub420 \n\uc774\ubbf8\uc9c0\ub97c \uae30\ub85d\ud558\uae30 \uc704\ud574 ``SummaryWriter`` \uc758 ``add_image()`` \ub97c \ud638\ucd9c\ud558\uace0, \n\ub610\ud55c ``flush()`` \ub97c \ud638\ucd9c\ud558\uc5ec \uc774\ubbf8\uc9c0\uac00 \uc989\uc2dc \ub514\uc2a4\ud06c\uc5d0 \uae30\ub85d\ub418\ub3c4\ub85d \ud569\ub2c8\ub2e4.\n\n\n"
      ]
    },
    {
      "cell_type": "code",
      "execution_count": null,
      "metadata": {
        "collapsed": false
      },
      "outputs": [],
      "source": [
        "# log_dir \uc778\uc218 \uae30\ubcf8\uac12\uc740 \"runs\"\uc785\ub2c8\ub2e4 - \ud558\uc9c0\ub9cc \uad6c\uccb4\uc801\uc73c\ub85c \uc815\ud558\ub294 \uac83\uc774 \uc88b\uc2b5\ub2c8\ub2e4.\n# \uc704\uc5d0\uc11c torch.utils.tensorboard.SummaryWriter\ub97c \uac00\uc838\uc654\uc2b5\ub2c8\ub2e4.\nwriter = SummaryWriter('runs/fashion_mnist_experiment_1')\n\n# TensorBoard \ub85c\uadf8 \ub514\ub809\ud130\ub9ac\uc5d0 \uc774\ubbf8\uc9c0 \ub370\uc774\ud130 \uc4f0\uae30(write)\nwriter.add_image('Four Fashion-MNIST Images', img_grid)\nwriter.flush()\n\n# \ub208\uc73c\ub85c \ubcf4\uae30 \uc704\ud574\uc11c\ub294 \ucee4\ub9e8\ub4dc \ub77c\uc778\uc5d0\uc11c TensorBoard\ub97c \uc2dc\uc791\ud558\uc138\uc694:\n#   tensorboard --logdir=runs\n# ...\uadf8\ub7f0 \ub2e4\uc74c \ube0c\ub77c\uc6b0\uc800\uc5d0\uc11c http://localhost:6006/ \ub97c \uc5f4\uc5b4\ubcf4\uc138\uc694."
      ]
    },
    {
      "cell_type": "markdown",
      "metadata": {},
      "source": [
        "\ub9cc\uc57d TensorBoard\ub97c \ucee4\ub9e8\ub4dc \ub77c\uc778\uc5d0\uc11c \uad6c\ub3d9\uc2dc\ucf1c \n\uadf8\uac83\uc744 \uc0c8 \ube0c\ub77c\uc6b0\uc800 \ud0ed(\ubcf4\ud1b5 [localhost:6006](localhost:6006)_)\uc5d0\uc11c \uc5f4\uc5c8\ub2e4\uba74, \nIMAGES \ud0ed\uc5d0\uc11c \uc774\ubbf8\uc9c0 \uaca9\uc790\ub97c \ud655\uc778\ud560 \uc218 \uc788\uc744 \uac83\uc785\ub2c8\ub2e4.\n\n## \ud6c8\ub828 \uc2dc\uac01\ud654\ub97c \uc704\ud55c \uc2a4\uce7c\ub77c \uadf8\ub798\ud504 \uadf8\ub9ac\uae30\n\nTensorBoard\ub294 \ud6c8\ub828 \uc9c4\ud589 \uacfc\uc815\uacfc \ud6a8\uacfc\ub97c \ucd94\uc801\ud558\uae30\uc5d0 \n\uc720\uc6a9\ud569\ub2c8\ub2e4. \uc544\ub798\uc5d0\uc11c \ud6c8\ub828 \ub8e8\ud504\ub97c \uc2e4\ud589\ud558\uace0 \uba87\uba87 \uc9c0\ud45c\ub97c \ucd94\uc801\ud558\uba70 \nTensorBoard\uc5d0\uc11c \uc0ac\uc6a9\ud560 \ub370\uc774\ud130\ub97c \uc800\uc7a5\ud560 \uac83\uc785\ub2c8\ub2e4.\n\n\uc774\ubbf8\uc9c0 \ud0c0\uc77c\uc744 \ubd84\ub958\ud560 \ubaa8\ub378\uacfc \uc635\ud2f0\ub9c8\uc774\uc800 \n\uadf8\ub9ac\uace0 \ud6c8\ub828\uc758 \uc190\uc2e4 \ud568\uc218\ub97c \uc815\uc758\ud574 \ubd05\uc2dc\ub2e4:\n\n\n"
      ]
    },
    {
      "cell_type": "code",
      "execution_count": null,
      "metadata": {
        "collapsed": false
      },
      "outputs": [],
      "source": [
        "class Net(nn.Module):\n    def __init__(self):\n        super(Net, self).__init__()\n        self.conv1 = nn.Conv2d(1, 6, 5)\n        self.pool = nn.MaxPool2d(2, 2)\n        self.conv2 = nn.Conv2d(6, 16, 5)\n        self.fc1 = nn.Linear(16 * 4 * 4, 120)\n        self.fc2 = nn.Linear(120, 84)\n        self.fc3 = nn.Linear(84, 10)\n\n    def forward(self, x):\n        x = self.pool(F.relu(self.conv1(x)))\n        x = self.pool(F.relu(self.conv2(x)))\n        x = x.view(-1, 16 * 4 * 4)\n        x = F.relu(self.fc1(x))\n        x = F.relu(self.fc2(x))\n        x = self.fc3(x)\n        return x\n\n\nnet = Net()\ncriterion = nn.CrossEntropyLoss()\noptimizer = optim.SGD(net.parameters(), lr=0.001, momentum=0.9)"
      ]
    },
    {
      "cell_type": "markdown",
      "metadata": {},
      "source": [
        "\uc774\uc81c \ub2e8\uc77c \uc5d0\ud3ed\uc744 \ud6c8\ub828\ud558\uace0, \ub9e4 1000 \ubc30\uce58\ub9c8\ub2e4 \ud6c8\ub828 \uc14b\uacfc \uac80\uc99d \uc14b\uc758\n\uc190\uc2e4\uc744 \ud3c9\uac00\ud574 \ubd05\ub2c8\ub2e4:\n\n\n"
      ]
    },
    {
      "cell_type": "code",
      "execution_count": null,
      "metadata": {
        "collapsed": false
      },
      "outputs": [],
      "source": [
        "print(len(validation_loader))\nfor epoch in range(1):  # \ub370\uc774\ud130 \uc14b\uc744 \uc5ec\ub7ec \ubc88 \ubc18\ubcf5(\ud544\uc694 \uc2dc \ud69f\uc218\ub97c \uc870\uc815\ud569\ub2c8\ub2e4.)\n    running_loss = 0.0\n\n    for i, data in enumerate(training_loader, 0):\n        # \uae30\ubcf8 \ud6c8\ub828 \ub8e8\ud504\n        inputs, labels = data\n        optimizer.zero_grad()\n        outputs = net(inputs)\n        loss = criterion(outputs, labels)\n        loss.backward()\n        optimizer.step()\n\n        running_loss += loss.item()\n        if i % 1000 == 999:    # \ub9e4 1000 \ubbf8\ub2c8 \ubc30\uce58\ub9c8\ub2e4...\n            print('Batch {}'.format(i + 1))\n            # \uac80\uc99d \uc14b\uacfc \ube44\uad50\n            running_vloss = 0.0\n\n            # \ud3c9\uac00 \ubaa8\ub4dc\uc5d0\uc11c\ub294 \uc77c\ubd80 \ubaa8\ub378\uc758 \ud2b9\uc815 \uc791\uc5c5\uc744 \uc0dd\ub7b5\ud560 \uc218 \uc788\uc2b5\ub2c8\ub2e4 \uc608\uc2dc: \ub4dc\ub86d\uc544\uc6c3 \ub808\uc774\uc5b4\n            net.train(False) # \ud3c9\uac00 \ubaa8\ub4dc\ub85c \uc804\ud658, \uc608\uc2dc: \uc815\uaddc\ud654(regularisation) \ub044\uae30\n            for j, vdata in enumerate(validation_loader, 0):\n                vinputs, vlabels = vdata\n                voutputs = net(vinputs)\n                vloss = criterion(voutputs, vlabels)\n                running_vloss += vloss.item()\n            net.train(True) # \ud6c8\ub828 \ubaa8\ub4dc\ub85c \ub3cc\uc544\uac00\uae30, \uc608\uc2dc: \uc815\uaddc\ud654 \ucf1c\uae30\n\n            avg_loss = running_loss / 1000\n            avg_vloss = running_vloss / len(validation_loader)\n\n            # \ubc30\uce58\ubcc4 \ud3c9\uade0 \uc2e4\ud589 \uc190\uc2e4\uc744 \uae30\ub85d\n            writer.add_scalars('Training vs. Validation Loss',\n                            { 'Training' : avg_loss, 'Validation' : avg_vloss },\n                            epoch * len(training_loader) + i)\n\n            running_loss = 0.0\nprint('Finished Training')\n\nwriter.flush()"
      ]
    },
    {
      "cell_type": "markdown",
      "metadata": {},
      "source": [
        "\uc5f4\ub9b0 TensorBoard\ub85c \uc804\ud658\ud558\uc5ec SCALARS\ud0ed\uc744 \uc0b4\ud3b4\ubcf4\uc138\uc694.\n\n## \ubaa8\ub378 \uc2dc\uac01\ud654\ud558\uae30\n\nTensorBoard\ub294 \ubaa8\ub378 \ub0b4 \ub370\uc774\ud130 \ud750\ub984\uc744 \uac80\uc0ac\ud558\ub294 \ub370\uc5d0\ub3c4 \uc720\uc6a9\ud569\ub2c8\ub2e4.\n\uc774\ub97c \uc704\ud574, \ubaa8\ub378\uacfc \uc0d8\ud50c \uc785\ub825\uc744 \uc774\uc6a9\ud574 ``add_graph()`` \uba54\uc18c\ub4dc\ub97c\n\ud638\ucd9c\ud569\ub2c8\ub2e4:\n\n\n"
      ]
    },
    {
      "cell_type": "code",
      "execution_count": null,
      "metadata": {
        "collapsed": false
      },
      "outputs": [],
      "source": [
        "# \ub2e4\uc2dc, \uc774\ubbf8\uc9c0\uc758 \ubbf8\ub2c8 \ubc30\uce58 \ud558\ub098\ub97c \uac00\uc838\uc635\ub2c8\ub2e4.\ndataiter = iter(training_loader)\nimages, labels = next(dataiter)\n\n# add_graph()\ub294 \uc0d8\ud50c \uc785\ub825\uc774 \ubaa8\ub378\uc744 \ud1b5\uacfc\ud558\ub294 \uacfc\uc815\uc744 \ucd94\uc801\ud558\uace0,\n# \uc774\ub97c \uadf8\ub798\ud504\ub85c \uc2dc\uac01\ud654\ud569\ub2c8\ub2e4.\nwriter.add_graph(net, images)\nwriter.flush()"
      ]
    },
    {
      "cell_type": "markdown",
      "metadata": {},
      "source": [
        "TensorBoard\ub85c \uc804\ud658\ud558\uba74, GRAPHS \ud0ed\uc774 \ubcf4\uc77c \uac83\uc785\ub2c8\ub2e4.\n\u201cNET\u201d \ub178\ub4dc\ub97c \ub354\ube14 \ud074\ub9ad\ud558\uc5ec \ubaa8\ub378 \ub0b4 \uacc4\uce35\uacfc \ub370\uc774\ud130 \ud750\ub984\uc744\n\ud655\uc778\ud558\uc138\uc694.\n\n## \uc784\ubca0\ub529\uc73c\ub85c \ub370\uc774\ud130\uc14b \uc2dc\uac01\ud654\ud558\uae30\n\n\uc6b0\ub9ac\uac00 \uc0ac\uc6a9\ud558\ub294 28x28 \uc774\ubbf8\uc9c0 \ud0c0\uc77c\uc740 784\ucc28\uc6d0\uc758\n\ubca1\ud130(28 \\* 28 = 784)\uac00 \ub420 \uc218 \uc788\uc2b5\ub2c8\ub2e4. \ub354 \ub0ae\uc740 \ucc28\uc6d0\uc73c\ub85c \ud22c\uc601\ud558\ub294 \ucabd\uc774\n\uc720\ub9ac\ud560 \uc218 \uc788\uc2b5\ub2c8\ub2e4. ``add_embedding()`` \uba54\uc18c\ub4dc\ub294 \n\uac00\uc7a5 \ubd84\uc0b0\uc774 \ub192\uc740 \uc138 \ucc28\uc6d0\uc73c\ub85c \ub370\uc774\ud130 \uc138\ud2b8\ub97c \ud22c\uc601\ud558\uace0,\n\uc0c1\ud638\uc791\uc6a9 \uac00\ub2a5\ud55c 3D \ucc28\ud2b8\ub85c \uc2dc\uac01\ud654\ud574 \uc904 \uac83\uc785\ub2c8\ub2e4. ``add_embedding()``\n\uba54\uc18c\ub4dc\ub294 \uac00\uc7a5 \ub192\uc740 \ubd84\uc0b0\uc744 \uac00\uc9c4 \uc138 \ucc28\uc6d0\uc5d0 \uc790\ub3d9\uc801\uc73c\ub85c \n\ud22c\uc601\ud558\uc5ec \uc774\ub97c \uc218\ud589\ud569\ub2c8\ub2e4.\n\n\uc544\ub798\uc5d0\uc11c \ub370\uc774\ud130 \uc0d8\ud50c\uc744 \uac00\uc838\uc640 \uc784\ubca0\ub529\uc744 \uc0dd\uc131\ud560 \uac83\uc785\ub2c8\ub2e4:\n\n\n"
      ]
    },
    {
      "cell_type": "code",
      "execution_count": null,
      "metadata": {
        "collapsed": false
      },
      "outputs": [],
      "source": [
        "# \ub370\uc774\ud130\uc758 \ub79c\ub364 \ubd80\ubd84\uc9d1\ud569\uacfc \ub300\uc751\ud558\ub294 \ub808\uc774\ube14\uc744 \uc120\ud0dd\ndef select_n_random(data, labels, n=100):\n    assert len(data) == len(labels)\n\n    perm = torch.randperm(len(data))\n    return data[perm][:n], labels[perm][:n]\n\n# \ub370\uc774\ud130\uc758 \ub79c\ub364 \ubd80\ubd84\uc9d1\ud569 \ucd94\ucd9c\nimages, labels = select_n_random(training_set.data, training_set.targets)\n\n# \uac01 \uc774\ubbf8\uc9c0\ubcc4 \ud074\ub798\uc2a4 \ub808\uc774\ube14 \uc5bb\uae30(get)\nclass_labels = [classes[label] for label in labels]\n\n# \ub85c\uadf8 \uc784\ubca0\ub529\nfeatures = images.view(-1, 28 * 28)\nwriter.add_embedding(features,\n                    metadata=class_labels,\n                    label_img=images.unsqueeze(1))\nwriter.flush()\nwriter.close()"
      ]
    },
    {
      "cell_type": "markdown",
      "metadata": {},
      "source": [
        "\uc774\uc81c TensorBoard\ub85c \uc804\ud658\ud558\uc5ec PROJECTOR \ud0ed\uc744 \uc120\ud0dd\ud558\uba74,\n3D\ub85c \ud45c\ud604\ub41c \ud22c\uc601\uc774 \ubcf4\uc77c \uac83\uc785\ub2c8\ub2e4. \uadf8 \ubaa8\ub378\uc744 \ud68c\uc804\ud558\uac70\ub098\n\ud655\ub300\ud560 \uc218 \uc788\uc2b5\ub2c8\ub2e4. \ud06c\uac70\ub098 \uc791\uc740 \uaddc\ubaa8(scale)\ub85c \uadf8\uac83\uc744 \uc0b4\ud3b4\ubcf4\uba70,\n\ud22c\uc601\ub41c \ub370\uc774\ud130\uc640 \ub808\uc774\ube14\uc758 \ud074\ub7ec\uc2a4\ud130\ub9c1\uc5d0\uc11c \ud328\ud134\uc744 \ubc1c\uacac\ud560 \uc218 \uc788\ub294\uc9c0\n\ubcf4\uc138\uc694.\n\n\uac00\uc2dc\uc131\uc744 \ub192\uc774\ub824\uba74, \ub2e4\uc74c\uc744 \uad8c\uc7a5\ud569\ub2c8\ub2e4:\n\n- \uc88c\uce21\uc5d0 \uc788\ub294 \u201cColor by\u201d \ub4dc\ub86d\ub2e4\uc6b4\uc5d0\uc11c \u201clabel\u201d\uc744 \uc120\ud0dd\ud558\uc138\uc694.\n- \uc0c1\ub2e8\uc5d0 \uc788\ub294 \uc57c\uac04 \ubaa8\ub4dc \uc544\uc774\ucf58\uc744 \uc804\ud658(toggle)\ud558\uc5ec\n  \ubc1d\uc740 \uc0c9\uc0c1 \uc774\ubbf8\uc9c0\ub97c \uc5b4\ub450\uc6b4 \ubc30\uacbd \uc704\uc5d0 \ubc30\uce58\ud560 \uc218 \uc788\uc2b5\ub2c8\ub2e4.\n\n## \uae30\ud0c0 \uc790\ub8cc\n\n\ub354 \uc54c\uace0 \uc2f6\ub2e4\uba74 \uc5ec\uae30\ub97c \ucc38\uc870\ud558\uc138\uc694:\n\n- [torch.utils.tensorboard.SummaryWriter](https://pytorch.org/docs/stable/tensorboard.html?highlight=summarywriter)\\\uc5d0 \ub300\ud55c PyTorch \ubb38\uc11c\n- [PyTorch.org Tutorials](https://tutorials.pytorch.kr/)\\\uc5d0 \uc788\ub294 Tensorboard \ud29c\ud1a0\ub9ac\uc5bc \ucf58\ud150\uce20\n- TensorBoard\uc5d0 \ub300\ud55c \ubcf4\ub2e4 \ub354 \uc790\uc138\ud55c \ub0b4\uc6a9\uc740\u00a0[TensorBoard\n  \ubb38\uc11c](https://www.tensorflow.org/tensorboard)\\\ub97c \ucc38\uace0\ud558\uc138\uc694.\n\n"
      ]
    }
  ],
  "metadata": {
    "kernelspec": {
      "display_name": "Python 3",
      "language": "python",
      "name": "python3"
    },
    "language_info": {
      "codemirror_mode": {
        "name": "ipython",
        "version": 3
      },
      "file_extension": ".py",
      "mimetype": "text/x-python",
      "name": "python",
      "nbconvert_exporter": "python",
      "pygments_lexer": "ipython3",
      "version": "3.11.13"
    }
  },
  "nbformat": 4,
  "nbformat_minor": 0
}