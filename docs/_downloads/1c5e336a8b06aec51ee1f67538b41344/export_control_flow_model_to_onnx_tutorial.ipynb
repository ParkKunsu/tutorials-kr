{
  "cells": [
    {
      "cell_type": "code",
      "execution_count": null,
      "metadata": {
        "collapsed": false
      },
      "outputs": [],
      "source": [
        "# Google Colab\uc5d0\uc11c \ub178\ud2b8\ubd81\uc744 \uc2e4\ud589\ud558\uae30 \uc704\ud55c \ud301\uc740 \ub2e4\uc74c\uc744 \ucc38\uc870\ud558\uc138\uc694:\n# https://tutorials.pytorch.kr/beginner/colab \n%matplotlib inline"
      ]
    },
    {
      "cell_type": "markdown",
      "metadata": {},
      "source": [
        "\n[Introduction to ONNX](intro_onnx.html) ||\n[Exporting a PyTorch model to ONNX](export_simple_model_to_onnx_tutorial.html) ||\n[Extending the ONNX exporter operator support](onnx_registry_tutorial.html) ||\n**`Export a model with control flow to ONNX**\n\n# Export a model with control flow to ONNX\n\n**Author**: [Xavier Dupr\u00e9](https://github.com/xadupre)\n"
      ]
    },
    {
      "cell_type": "markdown",
      "metadata": {},
      "source": [
        "## Overview\n\nThis tutorial demonstrates how to handle control flow logic while exporting\na PyTorch model to ONNX. It highlights the challenges of exporting\nconditional statements directly and provides solutions to circumvent them.\n\nConditional logic cannot be exported into ONNX unless they refactored\nto use :func:`torch.cond`. Let's start with a simple model\nimplementing a test.\n\nWhat you will learn:\n\n- How to refactor the model to use :func:`torch.cond` for exporting.\n- How to export a model with control flow logic to ONNX.\n- How to optimize the exported model using the ONNX optimizer.\n\n### Prerequisites\n\n* ``torch >= 2.6``\n\n"
      ]
    },
    {
      "cell_type": "code",
      "execution_count": null,
      "metadata": {
        "collapsed": false
      },
      "outputs": [],
      "source": [
        "import torch"
      ]
    },
    {
      "cell_type": "markdown",
      "metadata": {},
      "source": [
        "## Define the Models\n\nTwo models are defined:\n\n``ForwardWithControlFlowTest``: A model with a forward method containing an\nif-else conditional.\n\n``ModelWithControlFlowTest``: A model that incorporates ``ForwardWithControlFlowTest``\nas part of a simple MLP. The models are tested with\na random input tensor to confirm they execute as expected.\n\n"
      ]
    },
    {
      "cell_type": "code",
      "execution_count": null,
      "metadata": {
        "collapsed": false
      },
      "outputs": [],
      "source": [
        "class ForwardWithControlFlowTest(torch.nn.Module):\n    def forward(self, x):\n        if x.sum():\n            return x * 2\n        return -x\n\n\nclass ModelWithControlFlowTest(torch.nn.Module):\n    def __init__(self):\n        super().__init__()\n        self.mlp = torch.nn.Sequential(\n            torch.nn.Linear(3, 2),\n            torch.nn.Linear(2, 1),\n            ForwardWithControlFlowTest(),\n        )\n\n    def forward(self, x):\n        out = self.mlp(x)\n        return out\n\n\nmodel = ModelWithControlFlowTest()"
      ]
    },
    {
      "cell_type": "markdown",
      "metadata": {},
      "source": [
        "## Exporting the Model: First Attempt\n\nExporting this model using torch.export.export fails because the control\nflow logic in the forward pass creates a graph break that the exporter cannot\nhandle. This behavior is expected, as conditional logic not written using\n:func:`torch.cond` is unsupported.\n\nA try-except block is used to capture the expected failure during the export\nprocess. If the export unexpectedly succeeds, an ``AssertionError`` is raised.\n\n"
      ]
    },
    {
      "cell_type": "code",
      "execution_count": null,
      "metadata": {
        "collapsed": false
      },
      "outputs": [],
      "source": [
        "x = torch.randn(3)\nmodel(x)\n\ntry:\n    torch.export.export(model, (x,), strict=False)\n    raise AssertionError(\"This export should failed unless PyTorch now supports this model.\")\nexcept Exception as e:\n    print(e)"
      ]
    },
    {
      "cell_type": "markdown",
      "metadata": {},
      "source": [
        "## Using :func:`torch.onnx.export` with JIT Tracing\n\nWhen exporting the model using :func:`torch.onnx.export` with the dynamo=True\nargument, the exporter defaults to using JIT tracing. This fallback allows\nthe model to export, but the resulting ONNX graph may not faithfully represent\nthe original model logic due to the limitations of tracing.\n\n"
      ]
    },
    {
      "cell_type": "code",
      "execution_count": null,
      "metadata": {
        "collapsed": false
      },
      "outputs": [],
      "source": [
        "onnx_program = torch.onnx.export(model, (x,), dynamo=True) \nprint(onnx_program.model)"
      ]
    },
    {
      "cell_type": "markdown",
      "metadata": {},
      "source": [
        "## Suggested Patch: Refactoring with :func:`torch.cond`\n\nTo make the control flow exportable, the tutorial demonstrates replacing the\nforward method in ``ForwardWithControlFlowTest`` with a refactored version that\nuses :func:`torch.cond``.\n\nDetails of the Refactoring:\n\nTwo helper functions (identity2 and neg) represent the branches of the conditional logic:\n* :func:`torch.cond`` is used to specify the condition and the two branches along with the input arguments.\n* The updated forward method is then dynamically assigned to the ``ForwardWithControlFlowTest`` instance within the model. A list of submodules is printed to confirm the replacement.\n\n"
      ]
    },
    {
      "cell_type": "code",
      "execution_count": null,
      "metadata": {
        "collapsed": false
      },
      "outputs": [],
      "source": [
        "def new_forward(x):\n    def identity2(x):\n        return x * 2\n\n    def neg(x):\n        return -x\n\n    return torch.cond(x.sum() > 0, identity2, neg, (x,))\n\n\nprint(\"the list of submodules\")\nfor name, mod in model.named_modules():\n    print(name, type(mod))\n    if isinstance(mod, ForwardWithControlFlowTest):\n        mod.forward = new_forward"
      ]
    },
    {
      "cell_type": "markdown",
      "metadata": {},
      "source": [
        "Let's see what the FX graph looks like.\n\n"
      ]
    },
    {
      "cell_type": "code",
      "execution_count": null,
      "metadata": {
        "collapsed": false
      },
      "outputs": [],
      "source": [
        "print(torch.export.export(model, (x,), strict=False))"
      ]
    },
    {
      "cell_type": "markdown",
      "metadata": {},
      "source": [
        "Let's export again.\n\n"
      ]
    },
    {
      "cell_type": "code",
      "execution_count": null,
      "metadata": {
        "collapsed": false
      },
      "outputs": [],
      "source": [
        "onnx_program = torch.onnx.export(model, (x,), dynamo=True)  \nprint(onnx_program.model)"
      ]
    },
    {
      "cell_type": "markdown",
      "metadata": {},
      "source": [
        "We can optimize the model and get rid of the model local functions created to capture the control flow branches.  \n\n"
      ]
    },
    {
      "cell_type": "code",
      "execution_count": null,
      "metadata": {
        "collapsed": false
      },
      "outputs": [],
      "source": [
        "onnx_program.optimize()  \nprint(onnx_program.model)"
      ]
    },
    {
      "cell_type": "markdown",
      "metadata": {},
      "source": [
        "## Conclusion\n\nThis tutorial demonstrates the challenges of exporting models with conditional\nlogic to ONNX and presents a practical solution using :func:`torch.cond`.\nWhile the default exporters may fail or produce imperfect graphs, refactoring the\nmodel's logic ensures compatibility and generates a faithful ONNX representation.\n\nBy understanding these techniques, we can overcome common pitfalls when\nworking with control flow in PyTorch models and ensure smooth integration with ONNX workflows.\n\n## Further reading\n\nThe list below refers to tutorials that ranges from basic examples to advanced scenarios,\nnot necessarily in the order they are listed.\nFeel free to jump directly to specific topics of your interest or\nsit tight and have fun going through all of them to learn all there is about the ONNX exporter.\n\n.. include:: /beginner_source/onnx/onnx_toc.txt\n\n.. toctree::\n   :hidden:\n\n"
      ]
    }
  ],
  "metadata": {
    "kernelspec": {
      "display_name": "Python 3",
      "language": "python",
      "name": "python3"
    },
    "language_info": {
      "codemirror_mode": {
        "name": "ipython",
        "version": 3
      },
      "file_extension": ".py",
      "mimetype": "text/x-python",
      "name": "python",
      "nbconvert_exporter": "python",
      "pygments_lexer": "ipython3",
      "version": "3.11.13"
    }
  },
  "nbformat": 4,
  "nbformat_minor": 0
}