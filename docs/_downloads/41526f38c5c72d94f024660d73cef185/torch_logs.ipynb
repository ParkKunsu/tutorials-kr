{
  "cells": [
    {
      "cell_type": "code",
      "execution_count": null,
      "metadata": {
        "collapsed": false
      },
      "outputs": [],
      "source": [
        "# Google Colab\uc5d0\uc11c \ub178\ud2b8\ubd81\uc744 \uc2e4\ud589\ud558\uae30 \uc704\ud55c \ud301\uc740 \ub2e4\uc74c\uc744 \ucc38\uc870\ud558\uc138\uc694:\n# https://tutorials.pytorch.kr/beginner/colab \n%matplotlib inline"
      ]
    },
    {
      "cell_type": "markdown",
      "metadata": {},
      "source": [
        "\n# (beta) torch.compile\uacfc \ud568\uaed8 TORCH_LOGS \ud30c\uc774\uc36c API \uc0ac\uc6a9\ud558\uae30\n**\uc800\uc790:** [Michael Lazos](https://github.com/mlazos)\n**\ubc88\uc5ed:** [\uc7a5\ud6a8\uc601](https://github.com/hyoyoung)\n"
      ]
    },
    {
      "cell_type": "code",
      "execution_count": null,
      "metadata": {
        "collapsed": false
      },
      "outputs": [],
      "source": [
        "import logging"
      ]
    },
    {
      "cell_type": "markdown",
      "metadata": {},
      "source": [
        "This tutorial introduces the ``TORCH_LOGS`` environment variable, as well as the Python API, and\ndemonstrates how to apply it to observe the phases  of ``torch.compile``.\n\uc774 \ud29c\ud1a0\ub9ac\uc5bc\uc5d0\uc11c\ub294 ``TORCH_LOGS`` \ud658\uacbd \ubcc0\uc218\uc640 \ud568\uaed8 Python API\ub97c \uc18c\uac1c\ud558\uace0,\n\uc774\ub97c \uc801\uc6a9\ud558\uc5ec ``torch.compile``\uc758 \ub2e8\uacc4\ub97c \uad00\ucc30\ud558\ub294 \ubc29\ubc95\uc744 \ubcf4\uc5ec\uc90d\ub2c8\ub2e4.\n\n<div class=\"alert alert-info\"><h4>Note</h4><p>\uc774 \ud29c\ud1a0\ub9ac\uc5bc\uc5d0\ub294 PyTorch 2.2.0 \uc774\uc0c1 \ubc84\uc804\uc774 \ud544\uc694\ud569\ub2c8\ub2e4.</p></div>\n\n\n\n"
      ]
    },
    {
      "cell_type": "markdown",
      "metadata": {},
      "source": [
        "## \uc124\uc815\nIn this example, we'll set up a simple Python function which performs an elementwise\nadd and observe the compilation process with ``TORCH_LOGS`` Python API.\n\uc774 \uc608\uc81c\uc5d0\uc11c\ub294 \uc694\uc18c\ubcc4 \ub367\uc148\uc744 \uc218\ud589\ud558\ub294 \uac04\ub2e8\ud55c \ud30c\uc774\uc36c \ud568\uc218\ub97c \uc124\uc815\ud558\uace0\n``TORCH_LOGS`` \ud30c\uc774\uc36c API\ub97c \uc0ac\uc6a9\ud558\uc5ec \ucef4\ud30c\uc77c \ud504\ub85c\uc138\uc2a4\ub97c \uad00\ucc30\ud574 \ubcf4\uaca0\uc2b5\ub2c8\ub2e4.\n\n<div class=\"alert alert-info\"><h4>Note</h4><p>\uba85\ub839\uc904\uc5d0\uc11c \ub85c\uae45 \uc124\uc815\uc744 \ubcc0\uacbd\ud558\ub294 \ub370 \uc0ac\uc6a9\ud560 \uc218 \uc788\ub294\n  \ud658\uacbd \ubcc0\uc218 ``TORCH_LOGS``\ub3c4 \uc788\uc2b5\ub2c8\ub2e4. \uac01 \uc608\uc81c\uc5d0 \ud574\ub2f9\ud558\ub294\n  \ud658\uacbd \ubcc0\uc218 \uc124\uc815\uc774 \ud45c\uc2dc\ub418\uc5b4 \uc788\uc2b5\ub2c8\ub2e4.</p></div>\n\n"
      ]
    },
    {
      "cell_type": "code",
      "execution_count": null,
      "metadata": {
        "collapsed": false
      },
      "outputs": [],
      "source": [
        "import torch\n\n# torch.compile\uc744 \uc9c0\uc6d0\ud558\uc9c0 \uc54a\ub294 \uae30\uae30\uc778 \uacbd\uc6b0 \uc644\uc804\ud788 \uc885\ub8cc\ud569\ub2c8\ub2e4.\nif torch.cuda.get_device_capability() < (7, 0):\n    print(\"Skipping because torch.compile is not supported on this device.\")\nelse:\n    @torch.compile()\n    def fn(x, y):\n        z = x + y\n        return z + 2\n\n\n    inputs = (torch.ones(2, 2, device=\"cuda\"), torch.zeros(2, 2, device=\"cuda\"))\n\n\n# \uac01 \uc608\uc81c \uc0ac\uc774\uc758 \uad6c\ubd84 \uae30\ud638\ub97c \ucd9c\ub825\ud558\uace0 dynamo\ub97c reset\ud569\ub2c8\ub2e4\n    def separator(name):\n        print(f\"==================={name}=========================\")\n        torch._dynamo.reset()\n\n\n    separator(\"Dynamo Tracing\")\n# dynamo tracing \ubcf4\uae30\n# TORCH_LOGS=\"+dynamo\"\n    torch._logging.set_logs(dynamo=logging.DEBUG)\n    fn(*inputs)\n\n    separator(\"Traced Graph\")\n# traced \uadf8\ub798\ud504 \ubcf4\uae30\n# TORCH_LOGS=\"graph\"\n    torch._logging.set_logs(graph=True)\n    fn(*inputs)\n\n    separator(\"Fusion Decisions\")\n# fusion decision \ubcf4\uae30\n# TORCH_LOGS=\"fusion\"\n    torch._logging.set_logs(fusion=True)\n    fn(*inputs)\n\n    separator(\"Output Code\")\n# inductor\uac00 \uc0dd\uc131\ud55c \uacb0\uacfc \ucf54\ub4dc \ubcf4\uae30\n# TORCH_LOGS=\"output_code\"\n    torch._logging.set_logs(output_code=True)\n    fn(*inputs)\n\n    separator(\"\")"
      ]
    },
    {
      "cell_type": "markdown",
      "metadata": {},
      "source": [
        "## \uacb0\ub860\n\n\uc774 \ud29c\ud1a0\ub9ac\uc5bc\uc5d0\uc11c\ub294 \uc0ac\uc6a9 \uac00\ub2a5\ud55c \uba87 \uac00\uc9c0 \ub85c\uae45 \uc635\uc158\uc744 \uc2e4\ud5d8\ud558\uc5ec\nTORCH_LOGS \ud658\uacbd \ubcc0\uc218\uc640 Python API\ub97c \uc18c\uac1c\ud588\uc2b5\ub2c8\ub2e4.\n\uc0ac\uc6a9 \uac00\ub2a5\ud55c \ubaa8\ub4e0 \uc635\uc158\uc5d0 \ub300\ud55c \uc124\uba85\uc744 \ubcf4\ub824\uba74\n\ud30c\uc774\uc36c \uc2a4\ud06c\ub9bd\ud2b8\uc5d0\uc11c import torch\ub97c \uc2e4\ud589\ud558\uace0 TORCH_LOGS\ub97c \"help\"\ub85c \uc124\uc815\ud558\uc138\uc694.\n\n\ub2e4\ub978 \ubc29\ubc95\uc73c\ub85c\ub294, `torch._logging \ubb38\uc11c`_ \ub97c \ubcf4\uba74,\n\uc0ac\uc6a9 \uac00\ub2a5\ud55c \ubaa8\ub4e0 \ub85c\uae45 \uc635\uc158\uc5d0 \ub300\ud55c \uc124\uba85\uc744 \ud655\uc778\ud560 \uc218 \uc788\uc2b5\ub2c8\ub2e4.\n\ntorch.compile\uc5d0 \uad00\ud55c \ub354 \ub9ce\uc740 \uc815\ubcf4\ub294, `torch.compile \ud29c\ud1a0\ub9ac\uc5bc`_\ub97c \ubcf4\uc138\uc694.\n\n\n"
      ]
    }
  ],
  "metadata": {
    "kernelspec": {
      "display_name": "Python 3",
      "language": "python",
      "name": "python3"
    },
    "language_info": {
      "codemirror_mode": {
        "name": "ipython",
        "version": 3
      },
      "file_extension": ".py",
      "mimetype": "text/x-python",
      "name": "python",
      "nbconvert_exporter": "python",
      "pygments_lexer": "ipython3",
      "version": "3.11.13"
    }
  },
  "nbformat": 4,
  "nbformat_minor": 0
}